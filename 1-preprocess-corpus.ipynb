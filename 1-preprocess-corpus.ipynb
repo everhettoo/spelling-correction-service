{
 "cells": [
  {
   "cell_type": "markdown",
   "id": "31f363de6c0adfb5",
   "metadata": {},
   "source": [
    "# Objectives:\n",
    "We need to build medical vocabulary (word dictionary) for spelling checker. The following dataset was found useful for building vocab:(https://www.kaggle.com/datasets/jpmiller/layoutlm/data)\n",
    "\n",
    "Before building the vocab, the following questions needs to be clarified:\n",
    "1. What the dataset contains (EDA)?\n",
    "2. Which feature needed?\n",
    "3. What is the expected outcome?\n",
    "\n",
    "Once, these questions are clarified, we can proceed building a custom NLTK corpus."
   ]
  },
  {
   "cell_type": "code",
   "id": "3b42496ad2ad5d83",
   "metadata": {
    "ExecuteTime": {
     "end_time": "2025-03-19T11:43:23.805132Z",
     "start_time": "2025-03-19T11:43:22.559376Z"
    }
   },
   "source": [
    "import pandas as pd\n",
    "from nltk import RegexpTokenizer\n",
    "from nltk.tokenize import word_tokenize\n",
    "import statistics\n",
    "\n",
    "from nltk.translate.bleu_score import corpus_bleu\n",
    "\n",
    "from app_config import Configuration"
   ],
   "outputs": [],
   "execution_count": 1
  },
  {
   "cell_type": "code",
   "id": "f68d7f5191a962eb",
   "metadata": {
    "ExecuteTime": {
     "end_time": "2025-03-19T11:43:31.705208Z",
     "start_time": "2025-03-19T11:43:31.556849Z"
    }
   },
   "source": [
    "df = pd.read_csv('data/medquad-kaggle-johnm.csv')"
   ],
   "outputs": [],
   "execution_count": 2
  },
  {
   "cell_type": "code",
   "id": "7c5b9493657efbbb",
   "metadata": {
    "ExecuteTime": {
     "end_time": "2025-03-18T07:48:15.968587Z",
     "start_time": "2025-03-18T07:48:15.964690Z"
    }
   },
   "source": [
    "df.shape"
   ],
   "outputs": [
    {
     "data": {
      "text/plain": [
       "(16412, 4)"
      ]
     },
     "execution_count": 3,
     "metadata": {},
     "output_type": "execute_result"
    }
   ],
   "execution_count": 3
  },
  {
   "cell_type": "code",
   "id": "ad211965e39f4dfc",
   "metadata": {
    "ExecuteTime": {
     "end_time": "2025-03-18T07:48:16.006051Z",
     "start_time": "2025-03-18T07:48:15.999110Z"
    }
   },
   "source": [
    "df.head(2)"
   ],
   "outputs": [
    {
     "data": {
      "text/plain": [
       "                   question  \\\n",
       "0  What is (are) Glaucoma ?   \n",
       "1    What causes Glaucoma ?   \n",
       "\n",
       "                                              answer           source  \\\n",
       "0  Glaucoma is a group of diseases that can damag...  NIHSeniorHealth   \n",
       "1  Nearly 2.7 million people have glaucoma, a lea...  NIHSeniorHealth   \n",
       "\n",
       "  focus_area  \n",
       "0   Glaucoma  \n",
       "1   Glaucoma  "
      ],
      "text/html": [
       "<div>\n",
       "<style scoped>\n",
       "    .dataframe tbody tr th:only-of-type {\n",
       "        vertical-align: middle;\n",
       "    }\n",
       "\n",
       "    .dataframe tbody tr th {\n",
       "        vertical-align: top;\n",
       "    }\n",
       "\n",
       "    .dataframe thead th {\n",
       "        text-align: right;\n",
       "    }\n",
       "</style>\n",
       "<table border=\"1\" class=\"dataframe\">\n",
       "  <thead>\n",
       "    <tr style=\"text-align: right;\">\n",
       "      <th></th>\n",
       "      <th>question</th>\n",
       "      <th>answer</th>\n",
       "      <th>source</th>\n",
       "      <th>focus_area</th>\n",
       "    </tr>\n",
       "  </thead>\n",
       "  <tbody>\n",
       "    <tr>\n",
       "      <th>0</th>\n",
       "      <td>What is (are) Glaucoma ?</td>\n",
       "      <td>Glaucoma is a group of diseases that can damag...</td>\n",
       "      <td>NIHSeniorHealth</td>\n",
       "      <td>Glaucoma</td>\n",
       "    </tr>\n",
       "    <tr>\n",
       "      <th>1</th>\n",
       "      <td>What causes Glaucoma ?</td>\n",
       "      <td>Nearly 2.7 million people have glaucoma, a lea...</td>\n",
       "      <td>NIHSeniorHealth</td>\n",
       "      <td>Glaucoma</td>\n",
       "    </tr>\n",
       "  </tbody>\n",
       "</table>\n",
       "</div>"
      ]
     },
     "execution_count": 4,
     "metadata": {},
     "output_type": "execute_result"
    }
   ],
   "execution_count": 4
  },
  {
   "metadata": {
    "ExecuteTime": {
     "end_time": "2025-03-19T11:44:07.230476Z",
     "start_time": "2025-03-19T11:44:07.222995Z"
    }
   },
   "cell_type": "code",
   "source": "df['focus_area'].value_counts()",
   "id": "ed135e8060698fd3",
   "outputs": [
    {
     "data": {
      "text/plain": [
       "focus_area\n",
       "Breast Cancer                                                           53\n",
       "Prostate Cancer                                                         43\n",
       "Stroke                                                                  35\n",
       "Skin Cancer                                                             34\n",
       "Alzheimer's Disease                                                     30\n",
       "                                                                        ..\n",
       "Osteogenesis imperfecta Levin type                                       1\n",
       "Ichthyosis, leukocyte vacuoles, alopecia, and sclerosing cholangitis     1\n",
       "Ichthyosis hystrix, Curth Macklin type                                   1\n",
       "Reticuloendotheliosis                                                    1\n",
       "Autosomal dominant intermediate Charcot-Marie-Tooth disease type E       1\n",
       "Name: count, Length: 5126, dtype: int64"
      ]
     },
     "execution_count": 3,
     "metadata": {},
     "output_type": "execute_result"
    }
   ],
   "execution_count": 3
  },
  {
   "metadata": {
    "ExecuteTime": {
     "end_time": "2025-03-19T11:44:47.337781Z",
     "start_time": "2025-03-19T11:44:47.330941Z"
    }
   },
   "cell_type": "code",
   "source": "df[df['focus_area'] == 'Causes of Diabetes']",
   "id": "c5e0990b7e3bf752",
   "outputs": [
    {
     "data": {
      "text/plain": [
       "                                  question  \\\n",
       "15243   What is (are) Causes of Diabetes ?   \n",
       "15244     What causes Causes of Diabetes ?   \n",
       "15245     What causes Causes of Diabetes ?   \n",
       "15246     What causes Causes of Diabetes ?   \n",
       "15247     What causes Causes of Diabetes ?   \n",
       "15248     What causes Causes of Diabetes ?   \n",
       "15249  What to do for Causes of Diabetes ?   \n",
       "15342   What is (are) Causes of Diabetes ?   \n",
       "15343     What causes Causes of Diabetes ?   \n",
       "15344     What causes Causes of Diabetes ?   \n",
       "15345     What causes Causes of Diabetes ?   \n",
       "15346     What causes Causes of Diabetes ?   \n",
       "15347     What causes Causes of Diabetes ?   \n",
       "15348  What to do for Causes of Diabetes ?   \n",
       "16015   What is (are) Causes of Diabetes ?   \n",
       "16016     What causes Causes of Diabetes ?   \n",
       "16017     What causes Causes of Diabetes ?   \n",
       "16018     What causes Causes of Diabetes ?   \n",
       "16019     What causes Causes of Diabetes ?   \n",
       "16020     What causes Causes of Diabetes ?   \n",
       "16021  What to do for Causes of Diabetes ?   \n",
       "16205   What is (are) Causes of Diabetes ?   \n",
       "16206     What causes Causes of Diabetes ?   \n",
       "16207     What causes Causes of Diabetes ?   \n",
       "16208     What causes Causes of Diabetes ?   \n",
       "16209     What causes Causes of Diabetes ?   \n",
       "16210     What causes Causes of Diabetes ?   \n",
       "16211  What to do for Causes of Diabetes ?   \n",
       "\n",
       "                                                  answer source  \\\n",
       "15243  Diabetes is a complex group of diseases with a...  NIDDK   \n",
       "15244  Type 1 diabetes is caused by a lack of insulin...  NIDDK   \n",
       "15245  Type 2 diabetesthe most common form of diabete...  NIDDK   \n",
       "15246  Insulin Resistance and Beta Cell Dysfunction\\n...  NIDDK   \n",
       "15247  Other types of diabetes have a variety of poss...  NIDDK   \n",
       "15248  Other types of diabetes have a variety of poss...  NIDDK   \n",
       "15249  - Diabetes is a complex group of diseases with...  NIDDK   \n",
       "15342  Diabetes is a complex group of diseases with a...  NIDDK   \n",
       "15343  Type 1 diabetes is caused by a lack of insulin...  NIDDK   \n",
       "15344  Type 2 diabetesthe most common form of diabete...  NIDDK   \n",
       "15345  Insulin Resistance and Beta Cell Dysfunction\\n...  NIDDK   \n",
       "15346  Other types of diabetes have a variety of poss...  NIDDK   \n",
       "15347  Other types of diabetes have a variety of poss...  NIDDK   \n",
       "15348  - Diabetes is a complex group of diseases with...  NIDDK   \n",
       "16015  Diabetes is a complex group of diseases with a...  NIDDK   \n",
       "16016  Type 1 diabetes is caused by a lack of insulin...  NIDDK   \n",
       "16017  Type 2 diabetesthe most common form of diabete...  NIDDK   \n",
       "16018  Insulin Resistance and Beta Cell Dysfunction\\n...  NIDDK   \n",
       "16019  Other types of diabetes have a variety of poss...  NIDDK   \n",
       "16020  Other types of diabetes have a variety of poss...  NIDDK   \n",
       "16021  - Diabetes is a complex group of diseases with...  NIDDK   \n",
       "16205  Diabetes is a complex group of diseases with a...  NIDDK   \n",
       "16206  Type 1 diabetes is caused by a lack of insulin...  NIDDK   \n",
       "16207  Type 2 diabetesthe most common form of diabete...  NIDDK   \n",
       "16208  Insulin Resistance and Beta Cell Dysfunction\\n...  NIDDK   \n",
       "16209  Other types of diabetes have a variety of poss...  NIDDK   \n",
       "16210  Other types of diabetes have a variety of poss...  NIDDK   \n",
       "16211  - Diabetes is a complex group of diseases with...  NIDDK   \n",
       "\n",
       "               focus_area  \n",
       "15243  Causes of Diabetes  \n",
       "15244  Causes of Diabetes  \n",
       "15245  Causes of Diabetes  \n",
       "15246  Causes of Diabetes  \n",
       "15247  Causes of Diabetes  \n",
       "15248  Causes of Diabetes  \n",
       "15249  Causes of Diabetes  \n",
       "15342  Causes of Diabetes  \n",
       "15343  Causes of Diabetes  \n",
       "15344  Causes of Diabetes  \n",
       "15345  Causes of Diabetes  \n",
       "15346  Causes of Diabetes  \n",
       "15347  Causes of Diabetes  \n",
       "15348  Causes of Diabetes  \n",
       "16015  Causes of Diabetes  \n",
       "16016  Causes of Diabetes  \n",
       "16017  Causes of Diabetes  \n",
       "16018  Causes of Diabetes  \n",
       "16019  Causes of Diabetes  \n",
       "16020  Causes of Diabetes  \n",
       "16021  Causes of Diabetes  \n",
       "16205  Causes of Diabetes  \n",
       "16206  Causes of Diabetes  \n",
       "16207  Causes of Diabetes  \n",
       "16208  Causes of Diabetes  \n",
       "16209  Causes of Diabetes  \n",
       "16210  Causes of Diabetes  \n",
       "16211  Causes of Diabetes  "
      ],
      "text/html": [
       "<div>\n",
       "<style scoped>\n",
       "    .dataframe tbody tr th:only-of-type {\n",
       "        vertical-align: middle;\n",
       "    }\n",
       "\n",
       "    .dataframe tbody tr th {\n",
       "        vertical-align: top;\n",
       "    }\n",
       "\n",
       "    .dataframe thead th {\n",
       "        text-align: right;\n",
       "    }\n",
       "</style>\n",
       "<table border=\"1\" class=\"dataframe\">\n",
       "  <thead>\n",
       "    <tr style=\"text-align: right;\">\n",
       "      <th></th>\n",
       "      <th>question</th>\n",
       "      <th>answer</th>\n",
       "      <th>source</th>\n",
       "      <th>focus_area</th>\n",
       "    </tr>\n",
       "  </thead>\n",
       "  <tbody>\n",
       "    <tr>\n",
       "      <th>15243</th>\n",
       "      <td>What is (are) Causes of Diabetes ?</td>\n",
       "      <td>Diabetes is a complex group of diseases with a...</td>\n",
       "      <td>NIDDK</td>\n",
       "      <td>Causes of Diabetes</td>\n",
       "    </tr>\n",
       "    <tr>\n",
       "      <th>15244</th>\n",
       "      <td>What causes Causes of Diabetes ?</td>\n",
       "      <td>Type 1 diabetes is caused by a lack of insulin...</td>\n",
       "      <td>NIDDK</td>\n",
       "      <td>Causes of Diabetes</td>\n",
       "    </tr>\n",
       "    <tr>\n",
       "      <th>15245</th>\n",
       "      <td>What causes Causes of Diabetes ?</td>\n",
       "      <td>Type 2 diabetesthe most common form of diabete...</td>\n",
       "      <td>NIDDK</td>\n",
       "      <td>Causes of Diabetes</td>\n",
       "    </tr>\n",
       "    <tr>\n",
       "      <th>15246</th>\n",
       "      <td>What causes Causes of Diabetes ?</td>\n",
       "      <td>Insulin Resistance and Beta Cell Dysfunction\\n...</td>\n",
       "      <td>NIDDK</td>\n",
       "      <td>Causes of Diabetes</td>\n",
       "    </tr>\n",
       "    <tr>\n",
       "      <th>15247</th>\n",
       "      <td>What causes Causes of Diabetes ?</td>\n",
       "      <td>Other types of diabetes have a variety of poss...</td>\n",
       "      <td>NIDDK</td>\n",
       "      <td>Causes of Diabetes</td>\n",
       "    </tr>\n",
       "    <tr>\n",
       "      <th>15248</th>\n",
       "      <td>What causes Causes of Diabetes ?</td>\n",
       "      <td>Other types of diabetes have a variety of poss...</td>\n",
       "      <td>NIDDK</td>\n",
       "      <td>Causes of Diabetes</td>\n",
       "    </tr>\n",
       "    <tr>\n",
       "      <th>15249</th>\n",
       "      <td>What to do for Causes of Diabetes ?</td>\n",
       "      <td>- Diabetes is a complex group of diseases with...</td>\n",
       "      <td>NIDDK</td>\n",
       "      <td>Causes of Diabetes</td>\n",
       "    </tr>\n",
       "    <tr>\n",
       "      <th>15342</th>\n",
       "      <td>What is (are) Causes of Diabetes ?</td>\n",
       "      <td>Diabetes is a complex group of diseases with a...</td>\n",
       "      <td>NIDDK</td>\n",
       "      <td>Causes of Diabetes</td>\n",
       "    </tr>\n",
       "    <tr>\n",
       "      <th>15343</th>\n",
       "      <td>What causes Causes of Diabetes ?</td>\n",
       "      <td>Type 1 diabetes is caused by a lack of insulin...</td>\n",
       "      <td>NIDDK</td>\n",
       "      <td>Causes of Diabetes</td>\n",
       "    </tr>\n",
       "    <tr>\n",
       "      <th>15344</th>\n",
       "      <td>What causes Causes of Diabetes ?</td>\n",
       "      <td>Type 2 diabetesthe most common form of diabete...</td>\n",
       "      <td>NIDDK</td>\n",
       "      <td>Causes of Diabetes</td>\n",
       "    </tr>\n",
       "    <tr>\n",
       "      <th>15345</th>\n",
       "      <td>What causes Causes of Diabetes ?</td>\n",
       "      <td>Insulin Resistance and Beta Cell Dysfunction\\n...</td>\n",
       "      <td>NIDDK</td>\n",
       "      <td>Causes of Diabetes</td>\n",
       "    </tr>\n",
       "    <tr>\n",
       "      <th>15346</th>\n",
       "      <td>What causes Causes of Diabetes ?</td>\n",
       "      <td>Other types of diabetes have a variety of poss...</td>\n",
       "      <td>NIDDK</td>\n",
       "      <td>Causes of Diabetes</td>\n",
       "    </tr>\n",
       "    <tr>\n",
       "      <th>15347</th>\n",
       "      <td>What causes Causes of Diabetes ?</td>\n",
       "      <td>Other types of diabetes have a variety of poss...</td>\n",
       "      <td>NIDDK</td>\n",
       "      <td>Causes of Diabetes</td>\n",
       "    </tr>\n",
       "    <tr>\n",
       "      <th>15348</th>\n",
       "      <td>What to do for Causes of Diabetes ?</td>\n",
       "      <td>- Diabetes is a complex group of diseases with...</td>\n",
       "      <td>NIDDK</td>\n",
       "      <td>Causes of Diabetes</td>\n",
       "    </tr>\n",
       "    <tr>\n",
       "      <th>16015</th>\n",
       "      <td>What is (are) Causes of Diabetes ?</td>\n",
       "      <td>Diabetes is a complex group of diseases with a...</td>\n",
       "      <td>NIDDK</td>\n",
       "      <td>Causes of Diabetes</td>\n",
       "    </tr>\n",
       "    <tr>\n",
       "      <th>16016</th>\n",
       "      <td>What causes Causes of Diabetes ?</td>\n",
       "      <td>Type 1 diabetes is caused by a lack of insulin...</td>\n",
       "      <td>NIDDK</td>\n",
       "      <td>Causes of Diabetes</td>\n",
       "    </tr>\n",
       "    <tr>\n",
       "      <th>16017</th>\n",
       "      <td>What causes Causes of Diabetes ?</td>\n",
       "      <td>Type 2 diabetesthe most common form of diabete...</td>\n",
       "      <td>NIDDK</td>\n",
       "      <td>Causes of Diabetes</td>\n",
       "    </tr>\n",
       "    <tr>\n",
       "      <th>16018</th>\n",
       "      <td>What causes Causes of Diabetes ?</td>\n",
       "      <td>Insulin Resistance and Beta Cell Dysfunction\\n...</td>\n",
       "      <td>NIDDK</td>\n",
       "      <td>Causes of Diabetes</td>\n",
       "    </tr>\n",
       "    <tr>\n",
       "      <th>16019</th>\n",
       "      <td>What causes Causes of Diabetes ?</td>\n",
       "      <td>Other types of diabetes have a variety of poss...</td>\n",
       "      <td>NIDDK</td>\n",
       "      <td>Causes of Diabetes</td>\n",
       "    </tr>\n",
       "    <tr>\n",
       "      <th>16020</th>\n",
       "      <td>What causes Causes of Diabetes ?</td>\n",
       "      <td>Other types of diabetes have a variety of poss...</td>\n",
       "      <td>NIDDK</td>\n",
       "      <td>Causes of Diabetes</td>\n",
       "    </tr>\n",
       "    <tr>\n",
       "      <th>16021</th>\n",
       "      <td>What to do for Causes of Diabetes ?</td>\n",
       "      <td>- Diabetes is a complex group of diseases with...</td>\n",
       "      <td>NIDDK</td>\n",
       "      <td>Causes of Diabetes</td>\n",
       "    </tr>\n",
       "    <tr>\n",
       "      <th>16205</th>\n",
       "      <td>What is (are) Causes of Diabetes ?</td>\n",
       "      <td>Diabetes is a complex group of diseases with a...</td>\n",
       "      <td>NIDDK</td>\n",
       "      <td>Causes of Diabetes</td>\n",
       "    </tr>\n",
       "    <tr>\n",
       "      <th>16206</th>\n",
       "      <td>What causes Causes of Diabetes ?</td>\n",
       "      <td>Type 1 diabetes is caused by a lack of insulin...</td>\n",
       "      <td>NIDDK</td>\n",
       "      <td>Causes of Diabetes</td>\n",
       "    </tr>\n",
       "    <tr>\n",
       "      <th>16207</th>\n",
       "      <td>What causes Causes of Diabetes ?</td>\n",
       "      <td>Type 2 diabetesthe most common form of diabete...</td>\n",
       "      <td>NIDDK</td>\n",
       "      <td>Causes of Diabetes</td>\n",
       "    </tr>\n",
       "    <tr>\n",
       "      <th>16208</th>\n",
       "      <td>What causes Causes of Diabetes ?</td>\n",
       "      <td>Insulin Resistance and Beta Cell Dysfunction\\n...</td>\n",
       "      <td>NIDDK</td>\n",
       "      <td>Causes of Diabetes</td>\n",
       "    </tr>\n",
       "    <tr>\n",
       "      <th>16209</th>\n",
       "      <td>What causes Causes of Diabetes ?</td>\n",
       "      <td>Other types of diabetes have a variety of poss...</td>\n",
       "      <td>NIDDK</td>\n",
       "      <td>Causes of Diabetes</td>\n",
       "    </tr>\n",
       "    <tr>\n",
       "      <th>16210</th>\n",
       "      <td>What causes Causes of Diabetes ?</td>\n",
       "      <td>Other types of diabetes have a variety of poss...</td>\n",
       "      <td>NIDDK</td>\n",
       "      <td>Causes of Diabetes</td>\n",
       "    </tr>\n",
       "    <tr>\n",
       "      <th>16211</th>\n",
       "      <td>What to do for Causes of Diabetes ?</td>\n",
       "      <td>- Diabetes is a complex group of diseases with...</td>\n",
       "      <td>NIDDK</td>\n",
       "      <td>Causes of Diabetes</td>\n",
       "    </tr>\n",
       "  </tbody>\n",
       "</table>\n",
       "</div>"
      ]
     },
     "execution_count": 4,
     "metadata": {},
     "output_type": "execute_result"
    }
   ],
   "execution_count": 4
  },
  {
   "cell_type": "markdown",
   "id": "a2e9f70a93c7f2c9",
   "metadata": {},
   "source": [
    "## 1. What the dataset contains?\n",
    "We need a corpus that contains medical words for building a medical dictionary (vocab). Therefore, we need to investigate whether the obtained corpus contains the required."
   ]
  },
  {
   "cell_type": "code",
   "id": "61a82c826d392f08",
   "metadata": {
    "ExecuteTime": {
     "end_time": "2025-03-18T07:48:16.036294Z",
     "start_time": "2025-03-18T07:48:16.028099Z"
    }
   },
   "source": [
    "# Let's investigate the data types and columns in the dataset.\n",
    "df.info()"
   ],
   "outputs": [
    {
     "name": "stdout",
     "output_type": "stream",
     "text": [
      "<class 'pandas.core.frame.DataFrame'>\n",
      "RangeIndex: 16412 entries, 0 to 16411\n",
      "Data columns (total 4 columns):\n",
      " #   Column      Non-Null Count  Dtype \n",
      "---  ------      --------------  ----- \n",
      " 0   question    16412 non-null  object\n",
      " 1   answer      16407 non-null  object\n",
      " 2   source      16412 non-null  object\n",
      " 3   focus_area  16398 non-null  object\n",
      "dtypes: object(4)\n",
      "memory usage: 513.0+ KB\n"
     ]
    }
   ],
   "execution_count": 5
  },
  {
   "cell_type": "code",
   "id": "ea95daddeb8d732d",
   "metadata": {
    "ExecuteTime": {
     "end_time": "2025-03-18T07:48:16.106885Z",
     "start_time": "2025-03-18T07:48:16.084494Z"
    }
   },
   "source": [
    "# It appears there are four columns, and all columns contains string datatype.\n",
    "# Let's investigate which column will be more sensible for building the vocab.\n",
    "df.describe()"
   ],
   "outputs": [
    {
     "data": {
      "text/plain": [
       "                                question  \\\n",
       "count                              16412   \n",
       "unique                             14984   \n",
       "top     What causes Causes of Diabetes ?   \n",
       "freq                                  20   \n",
       "\n",
       "                                                   answer source  \\\n",
       "count                                               16407  16412   \n",
       "unique                                              15817      9   \n",
       "top     This condition is inherited in an autosomal re...    GHR   \n",
       "freq                                                  348   5430   \n",
       "\n",
       "           focus_area  \n",
       "count           16398  \n",
       "unique           5126  \n",
       "top     Breast Cancer  \n",
       "freq               53  "
      ],
      "text/html": [
       "<div>\n",
       "<style scoped>\n",
       "    .dataframe tbody tr th:only-of-type {\n",
       "        vertical-align: middle;\n",
       "    }\n",
       "\n",
       "    .dataframe tbody tr th {\n",
       "        vertical-align: top;\n",
       "    }\n",
       "\n",
       "    .dataframe thead th {\n",
       "        text-align: right;\n",
       "    }\n",
       "</style>\n",
       "<table border=\"1\" class=\"dataframe\">\n",
       "  <thead>\n",
       "    <tr style=\"text-align: right;\">\n",
       "      <th></th>\n",
       "      <th>question</th>\n",
       "      <th>answer</th>\n",
       "      <th>source</th>\n",
       "      <th>focus_area</th>\n",
       "    </tr>\n",
       "  </thead>\n",
       "  <tbody>\n",
       "    <tr>\n",
       "      <th>count</th>\n",
       "      <td>16412</td>\n",
       "      <td>16407</td>\n",
       "      <td>16412</td>\n",
       "      <td>16398</td>\n",
       "    </tr>\n",
       "    <tr>\n",
       "      <th>unique</th>\n",
       "      <td>14984</td>\n",
       "      <td>15817</td>\n",
       "      <td>9</td>\n",
       "      <td>5126</td>\n",
       "    </tr>\n",
       "    <tr>\n",
       "      <th>top</th>\n",
       "      <td>What causes Causes of Diabetes ?</td>\n",
       "      <td>This condition is inherited in an autosomal re...</td>\n",
       "      <td>GHR</td>\n",
       "      <td>Breast Cancer</td>\n",
       "    </tr>\n",
       "    <tr>\n",
       "      <th>freq</th>\n",
       "      <td>20</td>\n",
       "      <td>348</td>\n",
       "      <td>5430</td>\n",
       "      <td>53</td>\n",
       "    </tr>\n",
       "  </tbody>\n",
       "</table>\n",
       "</div>"
      ]
     },
     "execution_count": 6,
     "metadata": {},
     "output_type": "execute_result"
    }
   ],
   "execution_count": 6
  },
  {
   "cell_type": "markdown",
   "id": "e1391d9d1f0e8512",
   "metadata": {},
   "source": [
    "Logically assumption: average length of answers should be greater than questions; means, more texts in answers column. \\\n",
    "Let's investigate the assumption.\n"
   ]
  },
  {
   "cell_type": "code",
   "id": "20e3b58934f9c708",
   "metadata": {
    "ExecuteTime": {
     "end_time": "2025-03-18T07:48:16.128821Z",
     "start_time": "2025-03-18T07:48:16.127224Z"
    }
   },
   "source": [
    "# The following function returns token count for given text, it will be used for calculating\n",
    "# average tokens for questions & answers.\n",
    "def token_count(x):\n",
    "    return len(word_tokenize(x))"
   ],
   "outputs": [],
   "execution_count": 7
  },
  {
   "cell_type": "markdown",
   "id": "1576b8c0aa210b03",
   "metadata": {},
   "source": [
    "Before we use the word_tokenizer to count the tokens in each column, we need to drop the missing values to avoid exceptions."
   ]
  },
  {
   "cell_type": "code",
   "id": "76713f489bacd3b3",
   "metadata": {
    "ExecuteTime": {
     "end_time": "2025-03-18T07:48:16.184098Z",
     "start_time": "2025-03-18T07:48:16.179748Z"
    }
   },
   "source": [
    "# Let's find out the missing values first.\n",
    "df.isnull().sum()"
   ],
   "outputs": [
    {
     "data": {
      "text/plain": [
       "question       0\n",
       "answer         5\n",
       "source         0\n",
       "focus_area    14\n",
       "dtype: int64"
      ]
     },
     "execution_count": 8,
     "metadata": {},
     "output_type": "execute_result"
    }
   ],
   "execution_count": 8
  },
  {
   "cell_type": "code",
   "id": "9b0960dd56836b97",
   "metadata": {
    "ExecuteTime": {
     "end_time": "2025-03-18T07:48:16.840032Z",
     "start_time": "2025-03-18T07:48:16.241264Z"
    }
   },
   "source": [
    "# From the above we can conclude, question column doesn't have missing values meanwhile, answer column have 5.\n",
    "cnt = df['question'].apply(token_count).sum()\n",
    "print(f'Questions have {cnt} count of tokens.')"
   ],
   "outputs": [
    {
     "name": "stdout",
     "output_type": "stream",
     "text": [
      "Questions have 146185 count of tokens.\n"
     ]
    }
   ],
   "execution_count": 9
  },
  {
   "cell_type": "code",
   "id": "e8e9dbb9cec7360b",
   "metadata": {
    "ExecuteTime": {
     "end_time": "2025-03-18T07:48:27.418900Z",
     "start_time": "2025-03-18T07:48:16.879182Z"
    }
   },
   "source": [
    "# Drop only rows with missing values on the answer columns.\n",
    "df = df[df['answer'].notna()]\n",
    "\n",
    "cnt = df['answer'].apply(token_count).sum()\n",
    "print(f'Answers have {cnt} count of tokens.')"
   ],
   "outputs": [
    {
     "name": "stdout",
     "output_type": "stream",
     "text": [
      "Answers have 3731909 count of tokens.\n"
     ]
    }
   ],
   "execution_count": 10
  },
  {
   "cell_type": "markdown",
   "id": "d9f859c57df3994c",
   "metadata": {},
   "source": [
    "## 2. Which feature needed?\n",
    "In the EDA, two columns (question & answer) from the dataset was expected to have the required texts to build the vocab. For that, a hypothesis made that the answer column would have longer text than question column. The hypothesis was true, and therefore, the text from the answer column will be preprocessed for building the corpus.\n",
    "\n",
    "In the preprocessing to build the vocab, we need to:\n",
    "1. Clean the text from answer column - only words (others are stripped)\n",
    "2. Get lemma for each words to avoid redundant word with the same meaning\n",
    "3. Only include unique words into vocab"
   ]
  },
  {
   "cell_type": "code",
   "id": "2c5e211a1e06408f",
   "metadata": {
    "ExecuteTime": {
     "end_time": "2025-03-18T07:48:44.440982Z",
     "start_time": "2025-03-18T07:48:27.427243Z"
    }
   },
   "source": [
    "from importlib import reload\n",
    "# 1. Clean the text from answer column - only words (others are stripped)\n",
    "from nltk.corpus import stopwords\n",
    "import utils.regex as rx\n",
    "\n",
    "reload(rx)\n",
    "\n",
    "# Acquire the stop words from NLTK corpus.\n",
    "stop_words = stopwords.words('english')\n",
    "\n",
    "# To store all the processed tokens.\n",
    "corpus_token_list = []\n",
    "\n",
    "# Tracing value for debugging.\n",
    "i = 0\n",
    "token_cnt = 0\n",
    "filtered_token_cnt = 0\n",
    "cleanse_data = pd.DataFrame(columns=['row', 'original', 'cleansed'])\n",
    "try:\n",
    "    for text in df['answer']:\n",
    "        # Remove URLs.\n",
    "        clean_text = rx.remove_url(text)\n",
    "        # # Remove HTML tags.\n",
    "        clean_text = rx.remove_html(clean_text)\n",
    "        # # Remove bracketed words (usually acronyms).\n",
    "        clean_text = rx.remove_bracketed_text(clean_text)\n",
    "        # Transform contradictions to full form first before removing stop words.\n",
    "        clean_text = rx.transform_contractions(clean_text)\n",
    "        # Get only words.\n",
    "        clean_text = rx.get_words(clean_text.lower())\n",
    "        # Remove all extra spaces.\n",
    "        clean_text = rx.remove_extra_space(clean_text)\n",
    "        # For tracing raw to cleanse.\n",
    "        cleanse_data.loc[len(cleanse_data)] = [i, text, clean_text]\n",
    "        # Tokenize the text.\n",
    "        tokens = word_tokenize(clean_text)\n",
    "        # Tracing unfiltered-token count.\n",
    "        token_cnt += len(tokens)\n",
    "        # Filter stop words.\n",
    "        filtered_text = [w for w in tokens if not w.lower() in stop_words]\n",
    "        # Tracing filtered-token count for debugging.\n",
    "        filtered_token_cnt += len(filtered_text)\n",
    "        # Add the filtered words into corpus token_list.\n",
    "        corpus_token_list.append(filtered_text)\n",
    "        # Tracing row-count for debugging.\n",
    "        i += 1\n",
    "except Exception as e:\n",
    "    print(f'Exception {e} in {i}.')\n",
    "\n",
    "print(f'Rows processed:[{i}], unfiltered tokens:[{token_cnt}], filtered tokens:[{filtered_token_cnt}]')\n",
    "print(f'Corpus entry count:[{len(corpus_token_list)}].')\n",
    "\n",
    "cleanse_data.to_csv('data/cleanse-data.csv', index=False)"
   ],
   "outputs": [
    {
     "name": "stdout",
     "output_type": "stream",
     "text": [
      "Rows processed:[16407], unfiltered tokens:[3151455], filtered tokens:[1885840]\n",
      "Corpus entry count:[16407].\n"
     ]
    }
   ],
   "execution_count": 11
  },
  {
   "cell_type": "code",
   "id": "f1d64c170f9a3dd1",
   "metadata": {
    "ExecuteTime": {
     "end_time": "2025-03-18T07:48:44.452053Z",
     "start_time": "2025-03-18T07:48:44.448283Z"
    }
   },
   "source": [
    "cleanse_data.iloc[580:590]"
   ],
   "outputs": [
    {
     "data": {
      "text/plain": [
       "     row                                           original  \\\n",
       "580  580  Here are links to more information about P.A.D...   \n",
       "581  581  Many Reasons for Abuse Drug abuse, whether pre...   \n",
       "582  582  Addiction is a chronic disease in which a pers...   \n",
       "583  583  Physical dependence is a normal process that c...   \n",
       "584  584  A persons behavior, especially changes in beha...   \n",
       "585  585  The prescription medications most commonly abu...   \n",
       "586  586  Medications affect older people differently th...   \n",
       "587  587  Marijuana is the most abused illicit drug amon...   \n",
       "588  588  Although under federal law, marijuana is illeg...   \n",
       "589  589  Not always. Some warning signs, such as sleep ...   \n",
       "\n",
       "                                              cleansed  \n",
       "580  here are links to more information about p a d...  \n",
       "581  many reasons for abuse drug abuse whether pres...  \n",
       "582  addiction is a chronic disease in which a pers...  \n",
       "583  physical dependence is a normal process that c...  \n",
       "584  a persons behavior especially changes in behav...  \n",
       "585  the prescription medications most commonly abu...  \n",
       "586  medications affect older people differently th...  \n",
       "587  marijuana is the most abused illicit drug amon...  \n",
       "588  although under federal law marijuana is illega...  \n",
       "589  not always some warning signs such as sleep pr...  "
      ],
      "text/html": [
       "<div>\n",
       "<style scoped>\n",
       "    .dataframe tbody tr th:only-of-type {\n",
       "        vertical-align: middle;\n",
       "    }\n",
       "\n",
       "    .dataframe tbody tr th {\n",
       "        vertical-align: top;\n",
       "    }\n",
       "\n",
       "    .dataframe thead th {\n",
       "        text-align: right;\n",
       "    }\n",
       "</style>\n",
       "<table border=\"1\" class=\"dataframe\">\n",
       "  <thead>\n",
       "    <tr style=\"text-align: right;\">\n",
       "      <th></th>\n",
       "      <th>row</th>\n",
       "      <th>original</th>\n",
       "      <th>cleansed</th>\n",
       "    </tr>\n",
       "  </thead>\n",
       "  <tbody>\n",
       "    <tr>\n",
       "      <th>580</th>\n",
       "      <td>580</td>\n",
       "      <td>Here are links to more information about P.A.D...</td>\n",
       "      <td>here are links to more information about p a d...</td>\n",
       "    </tr>\n",
       "    <tr>\n",
       "      <th>581</th>\n",
       "      <td>581</td>\n",
       "      <td>Many Reasons for Abuse Drug abuse, whether pre...</td>\n",
       "      <td>many reasons for abuse drug abuse whether pres...</td>\n",
       "    </tr>\n",
       "    <tr>\n",
       "      <th>582</th>\n",
       "      <td>582</td>\n",
       "      <td>Addiction is a chronic disease in which a pers...</td>\n",
       "      <td>addiction is a chronic disease in which a pers...</td>\n",
       "    </tr>\n",
       "    <tr>\n",
       "      <th>583</th>\n",
       "      <td>583</td>\n",
       "      <td>Physical dependence is a normal process that c...</td>\n",
       "      <td>physical dependence is a normal process that c...</td>\n",
       "    </tr>\n",
       "    <tr>\n",
       "      <th>584</th>\n",
       "      <td>584</td>\n",
       "      <td>A persons behavior, especially changes in beha...</td>\n",
       "      <td>a persons behavior especially changes in behav...</td>\n",
       "    </tr>\n",
       "    <tr>\n",
       "      <th>585</th>\n",
       "      <td>585</td>\n",
       "      <td>The prescription medications most commonly abu...</td>\n",
       "      <td>the prescription medications most commonly abu...</td>\n",
       "    </tr>\n",
       "    <tr>\n",
       "      <th>586</th>\n",
       "      <td>586</td>\n",
       "      <td>Medications affect older people differently th...</td>\n",
       "      <td>medications affect older people differently th...</td>\n",
       "    </tr>\n",
       "    <tr>\n",
       "      <th>587</th>\n",
       "      <td>587</td>\n",
       "      <td>Marijuana is the most abused illicit drug amon...</td>\n",
       "      <td>marijuana is the most abused illicit drug amon...</td>\n",
       "    </tr>\n",
       "    <tr>\n",
       "      <th>588</th>\n",
       "      <td>588</td>\n",
       "      <td>Although under federal law, marijuana is illeg...</td>\n",
       "      <td>although under federal law marijuana is illega...</td>\n",
       "    </tr>\n",
       "    <tr>\n",
       "      <th>589</th>\n",
       "      <td>589</td>\n",
       "      <td>Not always. Some warning signs, such as sleep ...</td>\n",
       "      <td>not always some warning signs such as sleep pr...</td>\n",
       "    </tr>\n",
       "  </tbody>\n",
       "</table>\n",
       "</div>"
      ]
     },
     "execution_count": 12,
     "metadata": {},
     "output_type": "execute_result"
    }
   ],
   "execution_count": 12
  },
  {
   "cell_type": "code",
   "id": "ed7e2093a951bc5e",
   "metadata": {
    "ExecuteTime": {
     "end_time": "2025-03-18T07:48:51.942733Z",
     "start_time": "2025-03-18T07:48:44.478858Z"
    }
   },
   "source": [
    "# TODO: 23-03-2025: Wrong word 'dressingsthese' appeared in the medical.txt. GIGO!\n",
    "\n",
    "# 2. Get lemma for each words to avoid redundant word with the same meaning\n",
    "from nltk.stem import WordNetLemmatizer\n",
    "\n",
    "# nltk.download('wordnet')\n",
    "lemmatizer = WordNetLemmatizer()\n",
    "\n",
    "# List for storing token's lemma.\n",
    "corpus_lemma_list = []\n",
    "\n",
    "# Tracing value for debugging.\n",
    "i = 0\n",
    "token_cnt = 0\n",
    "filtered_token_cnt = 0\n",
    "# normalized_data = pd.DataFrame(columns=['row', 'original', 'normalized'])\n",
    "trace_list = []\n",
    "for entry in corpus_token_list:\n",
    "    entry_list = []\n",
    "    for token in entry:\n",
    "        normalized_token = lemmatizer.lemmatize(token)\n",
    "        entry_list.append(normalized_token)\n",
    "\n",
    "        # For tracing raw to cleanse.\n",
    "        trace_list.append([i, token, normalized_token])\n",
    "        # normalized_data.loc[len(normalized_data)] = [i, token, normalized_token]\n",
    "\n",
    "        filtered_token_cnt += 1\n",
    "\n",
    "    # Add entry (token for single answer) in the list for further processing.\n",
    "    corpus_lemma_list.append(entry_list)\n",
    "    i = i + 1\n",
    "\n",
    "print(f'Rows processed:[{i}], filtered tokens:[{filtered_token_cnt}]')\n",
    "print(f'Corpus entry count:[{len(corpus_token_list)}].')\n",
    "\n",
    "normalized_data = pd.DataFrame(trace_list, columns=['row', 'original', 'normalized'])\n",
    "normalized_data.to_csv('data/normalized-data.csv', index=False)"
   ],
   "outputs": [
    {
     "name": "stdout",
     "output_type": "stream",
     "text": [
      "Rows processed:[16407], filtered tokens:[1885840]\n",
      "Corpus entry count:[16407].\n"
     ]
    }
   ],
   "execution_count": 13
  },
  {
   "cell_type": "code",
   "id": "4206fb9d61a5cc50",
   "metadata": {
    "ExecuteTime": {
     "end_time": "2025-03-18T07:48:51.967096Z",
     "start_time": "2025-03-18T07:48:51.963430Z"
    }
   },
   "source": [
    "normalized_data.iloc[1780:1790]"
   ],
   "outputs": [
    {
     "data": {
      "text/plain": [
       "      row    original normalized\n",
       "1780   15    pressure   pressure\n",
       "1781   15      causes      cause\n",
       "1782   15      causes      cause\n",
       "1783   15        high       high\n",
       "1784   15       blood      blood\n",
       "1785   15    pressure   pressure\n",
       "1786   15     include    include\n",
       "1787   15     medical    medical\n",
       "1788   15  conditions  condition\n",
       "1789   15     chronic    chronic"
      ],
      "text/html": [
       "<div>\n",
       "<style scoped>\n",
       "    .dataframe tbody tr th:only-of-type {\n",
       "        vertical-align: middle;\n",
       "    }\n",
       "\n",
       "    .dataframe tbody tr th {\n",
       "        vertical-align: top;\n",
       "    }\n",
       "\n",
       "    .dataframe thead th {\n",
       "        text-align: right;\n",
       "    }\n",
       "</style>\n",
       "<table border=\"1\" class=\"dataframe\">\n",
       "  <thead>\n",
       "    <tr style=\"text-align: right;\">\n",
       "      <th></th>\n",
       "      <th>row</th>\n",
       "      <th>original</th>\n",
       "      <th>normalized</th>\n",
       "    </tr>\n",
       "  </thead>\n",
       "  <tbody>\n",
       "    <tr>\n",
       "      <th>1780</th>\n",
       "      <td>15</td>\n",
       "      <td>pressure</td>\n",
       "      <td>pressure</td>\n",
       "    </tr>\n",
       "    <tr>\n",
       "      <th>1781</th>\n",
       "      <td>15</td>\n",
       "      <td>causes</td>\n",
       "      <td>cause</td>\n",
       "    </tr>\n",
       "    <tr>\n",
       "      <th>1782</th>\n",
       "      <td>15</td>\n",
       "      <td>causes</td>\n",
       "      <td>cause</td>\n",
       "    </tr>\n",
       "    <tr>\n",
       "      <th>1783</th>\n",
       "      <td>15</td>\n",
       "      <td>high</td>\n",
       "      <td>high</td>\n",
       "    </tr>\n",
       "    <tr>\n",
       "      <th>1784</th>\n",
       "      <td>15</td>\n",
       "      <td>blood</td>\n",
       "      <td>blood</td>\n",
       "    </tr>\n",
       "    <tr>\n",
       "      <th>1785</th>\n",
       "      <td>15</td>\n",
       "      <td>pressure</td>\n",
       "      <td>pressure</td>\n",
       "    </tr>\n",
       "    <tr>\n",
       "      <th>1786</th>\n",
       "      <td>15</td>\n",
       "      <td>include</td>\n",
       "      <td>include</td>\n",
       "    </tr>\n",
       "    <tr>\n",
       "      <th>1787</th>\n",
       "      <td>15</td>\n",
       "      <td>medical</td>\n",
       "      <td>medical</td>\n",
       "    </tr>\n",
       "    <tr>\n",
       "      <th>1788</th>\n",
       "      <td>15</td>\n",
       "      <td>conditions</td>\n",
       "      <td>condition</td>\n",
       "    </tr>\n",
       "    <tr>\n",
       "      <th>1789</th>\n",
       "      <td>15</td>\n",
       "      <td>chronic</td>\n",
       "      <td>chronic</td>\n",
       "    </tr>\n",
       "  </tbody>\n",
       "</table>\n",
       "</div>"
      ]
     },
     "execution_count": 14,
     "metadata": {},
     "output_type": "execute_result"
    }
   ],
   "execution_count": 14
  },
  {
   "cell_type": "code",
   "id": "5b31d9460626042c",
   "metadata": {
    "ExecuteTime": {
     "end_time": "2025-03-18T07:48:52.047448Z",
     "start_time": "2025-03-18T07:48:51.995311Z"
    }
   },
   "source": [
    "# Upon random checking on the vocab, 'dressingsthese' was found. Further investigation was conducted to trace the outcome.\n",
    "normalized_data[normalized_data['normalized'] =='dressingsthese']"
   ],
   "outputs": [
    {
     "data": {
      "text/plain": [
       "      row        original      normalized\n",
       "5141   32  dressingsthese  dressingsthese\n",
       "5235   32  dressingsthese  dressingsthese"
      ],
      "text/html": [
       "<div>\n",
       "<style scoped>\n",
       "    .dataframe tbody tr th:only-of-type {\n",
       "        vertical-align: middle;\n",
       "    }\n",
       "\n",
       "    .dataframe tbody tr th {\n",
       "        vertical-align: top;\n",
       "    }\n",
       "\n",
       "    .dataframe thead th {\n",
       "        text-align: right;\n",
       "    }\n",
       "</style>\n",
       "<table border=\"1\" class=\"dataframe\">\n",
       "  <thead>\n",
       "    <tr style=\"text-align: right;\">\n",
       "      <th></th>\n",
       "      <th>row</th>\n",
       "      <th>original</th>\n",
       "      <th>normalized</th>\n",
       "    </tr>\n",
       "  </thead>\n",
       "  <tbody>\n",
       "    <tr>\n",
       "      <th>5141</th>\n",
       "      <td>32</td>\n",
       "      <td>dressingsthese</td>\n",
       "      <td>dressingsthese</td>\n",
       "    </tr>\n",
       "    <tr>\n",
       "      <th>5235</th>\n",
       "      <td>32</td>\n",
       "      <td>dressingsthese</td>\n",
       "      <td>dressingsthese</td>\n",
       "    </tr>\n",
       "  </tbody>\n",
       "</table>\n",
       "</div>"
      ]
     },
     "execution_count": 15,
     "metadata": {},
     "output_type": "execute_result"
    }
   ],
   "execution_count": 15
  },
  {
   "cell_type": "code",
   "id": "b336e023991b943a",
   "metadata": {
    "ExecuteTime": {
     "end_time": "2025-03-18T07:48:52.083403Z",
     "start_time": "2025-03-18T07:48:52.081295Z"
    }
   },
   "source": [
    "# The above indicates that the 'dressingsthese' word originated from the source. Let's find out with the row-id=32 from the source data.\n",
    "s3 = df.iloc[32:33]['answer'].tolist()\n",
    "print(s3)"
   ],
   "outputs": [
    {
     "name": "stdout",
     "output_type": "stream",
     "text": [
      "[\"Older adults should limit their sodium (salt) intake to 1,500 mg a day. That's about 2/3 of a teaspoon of salt. Here are tips to reduce salt in your diet. - Buy fresh, plain frozen, or canned with no salt added vegetables. Choose foods packed in water instead of broth or salt.   -  Use fresh poultry, fish, and lean meat, rather than canned or processed types.  - Use herbs, spices, and salt-free seasoning blends in cooking and at the table.  - Cook rice, pasta, and hot cereal without salt. Cut back on instant or flavored rice, pasta, and cereal mixes, which usually have added salt.  - Choose convenience foods that are low in sodium. Cut back on frozen dinners, pizza, packaged mixes, canned soups or broths, and salad dressingsthese often have a lot of sodium.  - Rinse canned foods, such as tuna, to remove some sodium.  - When available, buy low- or reduced-sodium or no-salt-added versions of foods.   - Choose ready-to-eat breakfast cereals that are low in sodium.  Buy fresh, plain frozen, or canned with no salt added vegetables. Choose foods packed in water instead of broth or salt. Use fresh poultry, fish, and lean meat, rather than canned or processed types. Use herbs, spices, and salt-free seasoning blends in cooking and at the table. Cook rice, pasta, and hot cereal without salt. Cut back on instant or flavored rice, pasta, and cereal mixes, which usually have added salt. Choose convenience foods that are low in sodium. Cut back on frozen dinners, pizza, packaged mixes, canned soups or broths, and salad dressingsthese often have a lot of sodium. Rinse canned foods, such as tuna, to remove some sodium. When available, buy low- or reduced-sodium or no-salt-added versions of foods. Choose ready-to-eat breakfast cereals that are low in sodium.\"]\n"
     ]
    }
   ],
   "execution_count": 16
  },
  {
   "cell_type": "code",
   "id": "d14aab75d908351a",
   "metadata": {
    "ExecuteTime": {
     "end_time": "2025-03-18T07:48:52.150753Z",
     "start_time": "2025-03-18T07:48:52.147879Z"
    }
   },
   "source": [
    "# Upon investigation this was found to be GIGO.\n",
    "s1 = cleanse_data[cleanse_data['row'] == 32]['original'].tolist()\n",
    "print(s1)"
   ],
   "outputs": [
    {
     "name": "stdout",
     "output_type": "stream",
     "text": [
      "[\"Older adults should limit their sodium (salt) intake to 1,500 mg a day. That's about 2/3 of a teaspoon of salt. Here are tips to reduce salt in your diet. - Buy fresh, plain frozen, or canned with no salt added vegetables. Choose foods packed in water instead of broth or salt.   -  Use fresh poultry, fish, and lean meat, rather than canned or processed types.  - Use herbs, spices, and salt-free seasoning blends in cooking and at the table.  - Cook rice, pasta, and hot cereal without salt. Cut back on instant or flavored rice, pasta, and cereal mixes, which usually have added salt.  - Choose convenience foods that are low in sodium. Cut back on frozen dinners, pizza, packaged mixes, canned soups or broths, and salad dressingsthese often have a lot of sodium.  - Rinse canned foods, such as tuna, to remove some sodium.  - When available, buy low- or reduced-sodium or no-salt-added versions of foods.   - Choose ready-to-eat breakfast cereals that are low in sodium.  Buy fresh, plain frozen, or canned with no salt added vegetables. Choose foods packed in water instead of broth or salt. Use fresh poultry, fish, and lean meat, rather than canned or processed types. Use herbs, spices, and salt-free seasoning blends in cooking and at the table. Cook rice, pasta, and hot cereal without salt. Cut back on instant or flavored rice, pasta, and cereal mixes, which usually have added salt. Choose convenience foods that are low in sodium. Cut back on frozen dinners, pizza, packaged mixes, canned soups or broths, and salad dressingsthese often have a lot of sodium. Rinse canned foods, such as tuna, to remove some sodium. When available, buy low- or reduced-sodium or no-salt-added versions of foods. Choose ready-to-eat breakfast cereals that are low in sodium.\"]\n"
     ]
    }
   ],
   "execution_count": 17
  },
  {
   "cell_type": "code",
   "id": "8bd16621b4165285",
   "metadata": {
    "ExecuteTime": {
     "end_time": "2025-03-18T07:49:00.194329Z",
     "start_time": "2025-03-18T07:48:52.189269Z"
    }
   },
   "source": [
    "# Let's see the most frequent words in the vocab.\n",
    "import wordcloud\n",
    "import matplotlib.pyplot as plt\n",
    "\n",
    "text = ''\n",
    "for entry in corpus_lemma_list:\n",
    "    for token in entry:\n",
    "        text += ' ' + token\n",
    "\n",
    "word_cloud = wordcloud.WordCloud(background_color='white').generate(text)\n",
    "plt.figure(figsize=(15, 8), facecolor=None)\n",
    "plt.imshow(word_cloud)\n",
    "plt.axis(\"off\")\n",
    "plt.tight_layout(pad=0)\n",
    "plt.show()"
   ],
   "outputs": [
    {
     "data": {
      "text/plain": [
       "<Figure size 1500x800 with 1 Axes>"
      ],
      "image/png": "[encoded data removed]"
     },
     "metadata": {},
     "output_type": "display_data"
    }
   ],
   "execution_count": 18
  },
  {
   "cell_type": "code",
   "id": "e1c15bd8f4ea6371",
   "metadata": {
    "ExecuteTime": {
     "end_time": "2025-03-18T07:49:31.120810Z",
     "start_time": "2025-03-18T07:49:00.198402Z"
    }
   },
   "source": [
    "# 3. Only include unique words into vocab\n",
    "\n",
    "# Final vocab to store the lemmas from the corpus.\n",
    "vocab_list = []\n",
    "for entry in corpus_lemma_list:\n",
    "    for word in entry:\n",
    "        if word not in vocab_list:\n",
    "            vocab_list.append(word)\n",
    "            \n",
    "vocab_list = sorted(vocab_list, key=len)\n",
    "\n",
    "print(f'Vocab entry count (unique words):[{len(vocab_list)}].')"
   ],
   "outputs": [
    {
     "name": "stdout",
     "output_type": "stream",
     "text": [
      "Vocab entry count (unique words):[23319].\n"
     ]
    }
   ],
   "execution_count": 19
  },
  {
   "cell_type": "markdown",
   "id": "65a319105175033e",
   "metadata": {},
   "source": [
    "## 3. What is the expected outcome?\n",
    "Now, we have the unique medical words stored in vocab and ready for creating a NLTK corpus for spelling checking."
   ]
  },
  {
   "cell_type": "code",
   "id": "ffe8c9b32661736f",
   "metadata": {
    "ExecuteTime": {
     "end_time": "2025-03-18T07:49:32.176720Z",
     "start_time": "2025-03-18T07:49:31.129971Z"
    }
   },
   "source": [
    "# Save the vocab into custom NLTK corpus format.\n",
    "\n",
    "import os\n",
    "\n",
    "# Get corpus path from app config.\n",
    "config = Configuration()\n",
    "\n",
    "# Organize the vocab into custom folder.\n",
    "corpus_dir = config.config_values['corpus_medical_dir']\n",
    "if not os.path.exists(corpus_dir):\n",
    "    os.makedirs(corpus_dir)\n",
    "\n",
    "corpus_name = config.config_values['corpus_medical_name']\n",
    "for i, text in enumerate(vocab_list):\n",
    "    with open(os.path.join(corpus_dir, corpus_name), 'a', encoding='utf-8') as file:\n",
    "        file.write(text + '\\r\\n')"
   ],
   "outputs": [],
   "execution_count": 20
  },
  {
   "cell_type": "code",
   "id": "99feedb22a58d5d9",
   "metadata": {
    "ExecuteTime": {
     "end_time": "2025-03-18T07:49:32.222505Z",
     "start_time": "2025-03-18T07:49:32.184854Z"
    }
   },
   "source": [
    "# Load the custom NLTK corpus.\n",
    "from nltk.corpus import PlaintextCorpusReader\n",
    "\n",
    "# Step 3: Create an NLTK Corpus Reader\n",
    "corpus = PlaintextCorpusReader(corpus_dir, '.*\\.txt')\n",
    "\n",
    "print(f'There are {len(corpus.words())} words in custom corpus.')"
   ],
   "outputs": [
    {
     "name": "stdout",
     "output_type": "stream",
     "text": [
      "There are 23319 words in custom corpus.\n"
     ]
    }
   ],
   "execution_count": 21
  },
  {
   "cell_type": "code",
   "id": "3658080d8b69389c",
   "metadata": {
    "ExecuteTime": {
     "end_time": "2025-03-18T07:49:32.465511Z",
     "start_time": "2025-03-18T07:49:32.230898Z"
    }
   },
   "source": [
    "# Testing: load the corpus and perform edit-distance for given real-word.\n",
    "from nltk import edit_distance\n",
    "\n",
    "test_word = 'glacoma'\n",
    "\n",
    "if test_word not in corpus.words():\n",
    "    print(f'Test word {test_word} not in corpus.')\n",
    "    for w in corpus.words():\n",
    "        m = edit_distance(test_word, w)\n",
    "        if m == 1:\n",
    "            print(f'Word {w} edit distance is {m}.')\n",
    "            break\n",
    "else:\n",
    "    print(f'Test word {test_word} exists in corpus.')\n"
   ],
   "outputs": [
    {
     "name": "stdout",
     "output_type": "stream",
     "text": [
      "Test word glacoma not in corpus.\n",
      "Word glaucoma edit distance is 1.\n"
     ]
    }
   ],
   "execution_count": 22
  }
 ],
 "metadata": {
  "kernelspec": {
   "display_name": "GPU_free",
   "language": "python",
   "name": "python3"
  },
  "language_info": {
   "codemirror_mode": {
    "name": "ipython",
    "version": 3
   },
   "file_extension": ".py",
   "mimetype": "text/x-python",
   "name": "python",
   "nbconvert_exporter": "python",
   "pygments_lexer": "ipython3",
   "version": "3.9.18"
  }
 },
 "nbformat": 4,
 "nbformat_minor": 5
}
