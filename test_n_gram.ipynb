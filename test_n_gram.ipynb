{
 "cells": [
  {
   "cell_type": "code",
   "execution_count": 1,
   "metadata": {},
   "outputs": [
    {
     "name": "stdout",
     "output_type": "stream",
     "text": [
      "Requirement already satisfied: nlppreprocess in c:\\users\\user\\anaconda3\\envs\\gpu_free\\lib\\site-packages (1.0.2)\n",
      "Note: you may need to restart the kernel to use updated packages.\n"
     ]
    }
   ],
   "source": [
    "pip install nlppreprocess"
   ]
  },
  {
   "cell_type": "code",
   "execution_count": 2,
   "metadata": {},
   "outputs": [
    {
     "name": "stdout",
     "output_type": "stream",
     "text": [
      "clean text: glaucoma is a group of diseases that can damage the eye s optic nerve and result in vision loss and blindness while glaucoma can strike anyone the risk is much greater for people over how glaucoma develops there are several different types of glaucoma most of these involve the drainage system within the eye at the front of the eye there is a small space called the anterior chamber a clear fluid flows through this chamber and bathes and nourishes the nearby tissues button on your keyboard in glaucoma for still unknown reasons the fluid drains too slowly out of the eye as the fluid builds up the pressure inside the eye rises unless this pressure is controlled it may cause damage to the optic nerve and other parts of the eye and result in loss of vision open angle glaucoma the most common type of glaucoma is called open angle glaucoma in the normal eye the clear fluid leaves the anterior chamber at the open angle where the cornea and iris meet when fluid reaches the angle it flows through a spongy meshwork like a drain and leaves the eye sometimes when the fluid reaches the angle it passes too slowly through the meshwork drain causing the pressure inside the eye to build if the pressure damages the optic nerve open angle glaucoma and vision loss may result there is no cure for glaucoma vision lost from the disease cannot be restored however there are treatments that may save remaining vision that is why early diagnosis is important see this graphic for a quick overview of glaucoma including how many people it affects whos at risk what to do if you have it and how to learn more see a glossary of glaucoma terms \n"
     ]
    }
   ],
   "source": [
    "# read the cleanse-data from preprocess-corpus\n",
    "import pandas as pd\n",
    "import nltk\n",
    "\n",
    "from nlppreprocess import NLP\n",
    "from nltk.util import ngrams\n",
    "from collections import defaultdict, Counter\n",
    "\n",
    "df = pd.read_csv('data/cleanse-data.csv')\n",
    "\n",
    "i = 0\n",
    "clean_text = ''\n",
    "\n",
    "try:\n",
    "    for text in df['cleansed']:\n",
    "        if i == 0:\n",
    "            clean_text = text\n",
    "        \n",
    "        i += 1\n",
    "except Exception as e:\n",
    "    print(f'Exception {e} in {i}.')\n",
    "    \n",
    "print(\"clean text:\", clean_text)"
   ]
  },
  {
   "cell_type": "code",
   "execution_count": 3,
   "metadata": {},
   "outputs": [
    {
     "name": "stdout",
     "output_type": "stream",
     "text": [
      "glaucoma group diseases can damage eye s optic nerve and result in vision loss and blindness glaucoma can strike anyone risk much greater people over how glaucoma develops there are several different types glaucoma most these involve drainage system within eye front eye there small space called anterior chamber clear fluid flows through chamber and bathes and nourishes nearby tissues button your keyboard in glaucoma still unknown reasons fluid drains too slowly out eye fluid builds up pressure inside eye rises unless pressure controlled may cause damage optic nerve and parts eye and result in loss vision open angle glaucoma most common type glaucoma called open angle glaucoma in normal eye clear fluid leaves anterior chamber open angle where cornea and iris meet when fluid reaches angle flows through spongy meshwork like drain and leaves eye sometimes when fluid reaches angle passes too slowly through meshwork drain causing pressure inside eye build pressure damages optic nerve open angle glaucoma and vision loss may result there no cure glaucoma vision lost from disease cannot restored however there are treatments may save remaining vision early diagnosis important see graphic quick overview glaucoma including how many people affects whos risk what you and how learn more see glossary glaucoma terms\n"
     ]
    }
   ],
   "source": [
    "nlp = NLP()\n",
    "cl_text = nlp.process(clean_text)\n",
    "print(cl_text)"
   ]
  },
  {
   "cell_type": "code",
   "execution_count": 4,
   "metadata": {},
   "outputs": [
    {
     "name": "stdout",
     "output_type": "stream",
     "text": [
      "['glaucoma', 'group', 'diseases', 'can', 'damage', 'eye', 's', 'optic', 'nerve', 'and', 'result', 'in', 'vision', 'loss', 'and', 'blindness', 'glaucoma', 'can', 'strike', 'anyone', 'risk', 'much', 'greater', 'people', 'over', 'how', 'glaucoma', 'develops', 'there', 'are', 'several', 'different', 'types', 'glaucoma', 'most', 'these', 'involve', 'drainage', 'system', 'within', 'eye', 'front', 'eye', 'there', 'small', 'space', 'called', 'anterior', 'chamber', 'clear', 'fluid', 'flows', 'through', 'chamber', 'and', 'bathes', 'and', 'nourishes', 'nearby', 'tissues', 'button', 'your', 'keyboard', 'in', 'glaucoma', 'still', 'unknown', 'reasons', 'fluid', 'drains', 'too', 'slowly', 'out', 'eye', 'fluid', 'builds', 'up', 'pressure', 'inside', 'eye', 'rises', 'unless', 'pressure', 'controlled', 'may', 'cause', 'damage', 'optic', 'nerve', 'and', 'parts', 'eye', 'and', 'result', 'in', 'loss', 'vision', 'open', 'angle', 'glaucoma', 'most', 'common', 'type', 'glaucoma', 'called', 'open', 'angle', 'glaucoma', 'in', 'normal', 'eye', 'clear', 'fluid', 'leaves', 'anterior', 'chamber', 'open', 'angle', 'where', 'cornea', 'and', 'iris', 'meet', 'when', 'fluid', 'reaches', 'angle', 'flows', 'through', 'spongy', 'meshwork', 'like', 'drain', 'and', 'leaves', 'eye', 'sometimes', 'when', 'fluid', 'reaches', 'angle', 'passes', 'too', 'slowly', 'through', 'meshwork', 'drain', 'causing', 'pressure', 'inside', 'eye', 'build', 'pressure', 'damages', 'optic', 'nerve', 'open', 'angle', 'glaucoma', 'and', 'vision', 'loss', 'may', 'result', 'there', 'no', 'cure', 'glaucoma', 'vision', 'lost', 'from', 'disease', 'can', 'not', 'restored', 'however', 'there', 'are', 'treatments', 'may', 'save', 'remaining', 'vision', 'early', 'diagnosis', 'important', 'see', 'graphic', 'quick', 'overview', 'glaucoma', 'including', 'how', 'many', 'people', 'affects', 'whos', 'risk', 'what', 'you', 'and', 'how', 'learn', 'more', 'see', 'glossary', 'glaucoma', 'terms']\n"
     ]
    }
   ],
   "source": [
    "tokens = nltk.word_tokenize(cl_text)\n",
    "print(tokens)"
   ]
  },
  {
   "cell_type": "code",
   "execution_count": 5,
   "metadata": {},
   "outputs": [
    {
     "name": "stdout",
     "output_type": "stream",
     "text": [
      "Trigrams: [('glaucoma', 'group', 'diseases'), ('group', 'diseases', 'can'), ('diseases', 'can', 'damage'), ('can', 'damage', 'eye'), ('damage', 'eye', 's'), ('eye', 's', 'optic'), ('s', 'optic', 'nerve'), ('optic', 'nerve', 'and'), ('nerve', 'and', 'result'), ('and', 'result', 'in'), ('result', 'in', 'vision'), ('in', 'vision', 'loss'), ('vision', 'loss', 'and'), ('loss', 'and', 'blindness'), ('and', 'blindness', 'glaucoma'), ('blindness', 'glaucoma', 'can'), ('glaucoma', 'can', 'strike'), ('can', 'strike', 'anyone'), ('strike', 'anyone', 'risk'), ('anyone', 'risk', 'much'), ('risk', 'much', 'greater'), ('much', 'greater', 'people'), ('greater', 'people', 'over'), ('people', 'over', 'how'), ('over', 'how', 'glaucoma'), ('how', 'glaucoma', 'develops'), ('glaucoma', 'develops', 'there'), ('develops', 'there', 'are'), ('there', 'are', 'several'), ('are', 'several', 'different'), ('several', 'different', 'types'), ('different', 'types', 'glaucoma'), ('types', 'glaucoma', 'most'), ('glaucoma', 'most', 'these'), ('most', 'these', 'involve'), ('these', 'involve', 'drainage'), ('involve', 'drainage', 'system'), ('drainage', 'system', 'within'), ('system', 'within', 'eye'), ('within', 'eye', 'front'), ('eye', 'front', 'eye'), ('front', 'eye', 'there'), ('eye', 'there', 'small'), ('there', 'small', 'space'), ('small', 'space', 'called'), ('space', 'called', 'anterior'), ('called', 'anterior', 'chamber'), ('anterior', 'chamber', 'clear'), ('chamber', 'clear', 'fluid'), ('clear', 'fluid', 'flows'), ('fluid', 'flows', 'through'), ('flows', 'through', 'chamber'), ('through', 'chamber', 'and'), ('chamber', 'and', 'bathes'), ('and', 'bathes', 'and'), ('bathes', 'and', 'nourishes'), ('and', 'nourishes', 'nearby'), ('nourishes', 'nearby', 'tissues'), ('nearby', 'tissues', 'button'), ('tissues', 'button', 'your'), ('button', 'your', 'keyboard'), ('your', 'keyboard', 'in'), ('keyboard', 'in', 'glaucoma'), ('in', 'glaucoma', 'still'), ('glaucoma', 'still', 'unknown'), ('still', 'unknown', 'reasons'), ('unknown', 'reasons', 'fluid'), ('reasons', 'fluid', 'drains'), ('fluid', 'drains', 'too'), ('drains', 'too', 'slowly'), ('too', 'slowly', 'out'), ('slowly', 'out', 'eye'), ('out', 'eye', 'fluid'), ('eye', 'fluid', 'builds'), ('fluid', 'builds', 'up'), ('builds', 'up', 'pressure'), ('up', 'pressure', 'inside'), ('pressure', 'inside', 'eye'), ('inside', 'eye', 'rises'), ('eye', 'rises', 'unless'), ('rises', 'unless', 'pressure'), ('unless', 'pressure', 'controlled'), ('pressure', 'controlled', 'may'), ('controlled', 'may', 'cause'), ('may', 'cause', 'damage'), ('cause', 'damage', 'optic'), ('damage', 'optic', 'nerve'), ('optic', 'nerve', 'and'), ('nerve', 'and', 'parts'), ('and', 'parts', 'eye'), ('parts', 'eye', 'and'), ('eye', 'and', 'result'), ('and', 'result', 'in'), ('result', 'in', 'loss'), ('in', 'loss', 'vision'), ('loss', 'vision', 'open'), ('vision', 'open', 'angle'), ('open', 'angle', 'glaucoma'), ('angle', 'glaucoma', 'most'), ('glaucoma', 'most', 'common'), ('most', 'common', 'type'), ('common', 'type', 'glaucoma'), ('type', 'glaucoma', 'called'), ('glaucoma', 'called', 'open'), ('called', 'open', 'angle'), ('open', 'angle', 'glaucoma'), ('angle', 'glaucoma', 'in'), ('glaucoma', 'in', 'normal'), ('in', 'normal', 'eye'), ('normal', 'eye', 'clear'), ('eye', 'clear', 'fluid'), ('clear', 'fluid', 'leaves'), ('fluid', 'leaves', 'anterior'), ('leaves', 'anterior', 'chamber'), ('anterior', 'chamber', 'open'), ('chamber', 'open', 'angle'), ('open', 'angle', 'where'), ('angle', 'where', 'cornea'), ('where', 'cornea', 'and'), ('cornea', 'and', 'iris'), ('and', 'iris', 'meet'), ('iris', 'meet', 'when'), ('meet', 'when', 'fluid'), ('when', 'fluid', 'reaches'), ('fluid', 'reaches', 'angle'), ('reaches', 'angle', 'flows'), ('angle', 'flows', 'through'), ('flows', 'through', 'spongy'), ('through', 'spongy', 'meshwork'), ('spongy', 'meshwork', 'like'), ('meshwork', 'like', 'drain'), ('like', 'drain', 'and'), ('drain', 'and', 'leaves'), ('and', 'leaves', 'eye'), ('leaves', 'eye', 'sometimes'), ('eye', 'sometimes', 'when'), ('sometimes', 'when', 'fluid'), ('when', 'fluid', 'reaches'), ('fluid', 'reaches', 'angle'), ('reaches', 'angle', 'passes'), ('angle', 'passes', 'too'), ('passes', 'too', 'slowly'), ('too', 'slowly', 'through'), ('slowly', 'through', 'meshwork'), ('through', 'meshwork', 'drain'), ('meshwork', 'drain', 'causing'), ('drain', 'causing', 'pressure'), ('causing', 'pressure', 'inside'), ('pressure', 'inside', 'eye'), ('inside', 'eye', 'build'), ('eye', 'build', 'pressure'), ('build', 'pressure', 'damages'), ('pressure', 'damages', 'optic'), ('damages', 'optic', 'nerve'), ('optic', 'nerve', 'open'), ('nerve', 'open', 'angle'), ('open', 'angle', 'glaucoma'), ('angle', 'glaucoma', 'and'), ('glaucoma', 'and', 'vision'), ('and', 'vision', 'loss'), ('vision', 'loss', 'may'), ('loss', 'may', 'result'), ('may', 'result', 'there'), ('result', 'there', 'no'), ('there', 'no', 'cure'), ('no', 'cure', 'glaucoma'), ('cure', 'glaucoma', 'vision'), ('glaucoma', 'vision', 'lost'), ('vision', 'lost', 'from'), ('lost', 'from', 'disease'), ('from', 'disease', 'can'), ('disease', 'can', 'not'), ('can', 'not', 'restored'), ('not', 'restored', 'however'), ('restored', 'however', 'there'), ('however', 'there', 'are'), ('there', 'are', 'treatments'), ('are', 'treatments', 'may'), ('treatments', 'may', 'save'), ('may', 'save', 'remaining'), ('save', 'remaining', 'vision'), ('remaining', 'vision', 'early'), ('vision', 'early', 'diagnosis'), ('early', 'diagnosis', 'important'), ('diagnosis', 'important', 'see'), ('important', 'see', 'graphic'), ('see', 'graphic', 'quick'), ('graphic', 'quick', 'overview'), ('quick', 'overview', 'glaucoma'), ('overview', 'glaucoma', 'including'), ('glaucoma', 'including', 'how'), ('including', 'how', 'many'), ('how', 'many', 'people'), ('many', 'people', 'affects'), ('people', 'affects', 'whos'), ('affects', 'whos', 'risk'), ('whos', 'risk', 'what'), ('risk', 'what', 'you'), ('what', 'you', 'and'), ('you', 'and', 'how'), ('and', 'how', 'learn'), ('how', 'learn', 'more'), ('learn', 'more', 'see'), ('more', 'see', 'glossary'), ('see', 'glossary', 'glaucoma'), ('glossary', 'glaucoma', 'terms')]\n"
     ]
    }
   ],
   "source": [
    "# not required in service\n",
    "trigrams = list(ngrams(tokens, 3))\n",
    "print(\"Trigrams:\", trigrams)"
   ]
  },
  {
   "cell_type": "code",
   "execution_count": 6,
   "metadata": {},
   "outputs": [
    {
     "name": "stdout",
     "output_type": "stream",
     "text": [
      "Predicted next word: diseases\n"
     ]
    }
   ],
   "source": [
    "class NGramModel:\n",
    "    def __init__(self, n, tokens):\n",
    "        self.n = n\n",
    "        self.model = defaultdict(Counter)\n",
    "        self.build_model(tokens)\n",
    "\n",
    "    def build_model(self, tokens):\n",
    "        n_grams = list(ngrams(tokens, self.n))\n",
    "        for ngram in n_grams:\n",
    "            prefix, next_word = tuple(ngram[:-1]), ngram[-1]\n",
    "            self.model[prefix][next_word] += 1\n",
    "\n",
    "    def predict_next(self, context):\n",
    "        context = tuple(context[-(self.n - 1):])  # Keep only relevant context\n",
    "        if context in self.model:\n",
    "            return self.model[context].most_common(1)[0][0]  # Most probable next word\n",
    "        else:\n",
    "            return None  # No prediction\n",
    "\n",
    "# Create a bigram model\n",
    "bigram_model = NGramModel(3, tokens)\n",
    "\n",
    "# Predict next word\n",
    "context = [\"glaucoma\", \"group\"]\n",
    "predicted_word = bigram_model.predict_next(context)\n",
    "print(f\"Predicted next word: {predicted_word}\")"
   ]
  },
  {
   "cell_type": "code",
   "execution_count": 7,
   "metadata": {},
   "outputs": [
    {
     "name": "stdout",
     "output_type": "stream",
     "text": [
      "Generated text: glaucoma group diseases\n"
     ]
    }
   ],
   "source": [
    "def generate_text(model, seed, num_words=10):\n",
    "    text = seed[:]\n",
    "    for _ in range(num_words):\n",
    "        next_word = model.predict_next(text)\n",
    "        if next_word:\n",
    "            text.append(next_word)\n",
    "        else:\n",
    "            break\n",
    "    return \" \".join(text)\n",
    "\n",
    "# Example: Generate text starting with \"this is\"\n",
    "generated_text = generate_text(bigram_model, [\"glaucoma\", \"group\"], num_words=1)\n",
    "print(\"Generated text:\", generated_text)"
   ]
  }
 ],
 "metadata": {
  "kernelspec": {
   "display_name": "GPU_free",
   "language": "python",
   "name": "python3"
  },
  "language_info": {
   "codemirror_mode": {
    "name": "ipython",
    "version": 3
   },
   "file_extension": ".py",
   "mimetype": "text/x-python",
   "name": "python",
   "nbconvert_exporter": "python",
   "pygments_lexer": "ipython3",
   "version": "3.9.18"
  }
 },
 "nbformat": 4,
 "nbformat_minor": 2
}
