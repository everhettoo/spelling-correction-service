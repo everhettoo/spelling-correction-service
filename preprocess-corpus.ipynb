{
 "cells": [
  {
   "metadata": {},
   "cell_type": "markdown",
   "source": [
    "# Objectives:\n",
    "We need to build medical vocabulary (word dictionary) for spelling checker. The following dataset was found useful for building vocab:(https://www.kaggle.com/datasets/jpmiller/layoutlm/data)\n",
    "\n",
    "Before building the vocab, the following questions needs to be clarified:\n",
    "1. What the dataset contains (EDA)?\n",
    "2. Which feature needed?\n",
    "3. What is the expected outcome?\n",
    "\n",
    "Once, these questions are clarified, we can proceed building a custom NLTK corpus."
   ],
   "id": "31f363de6c0adfb5"
  },
  {
   "metadata": {
    "ExecuteTime": {
     "end_time": "2025-02-25T02:49:03.191773Z",
     "start_time": "2025-02-25T02:48:51.507659Z"
    }
   },
   "cell_type": "code",
   "source": [
    "import pandas as pd\n",
    "from nltk import RegexpTokenizer\n",
    "from nltk.tokenize import word_tokenize\n",
    "import statistics\n",
    "\n",
    "from nltk.translate.bleu_score import corpus_bleu\n",
    "\n",
    "from app_config import Configuration"
   ],
   "id": "3b42496ad2ad5d83",
   "outputs": [],
   "execution_count": 1
  },
  {
   "metadata": {
    "ExecuteTime": {
     "end_time": "2025-02-25T02:49:03.367884Z",
     "start_time": "2025-02-25T02:49:03.208985Z"
    }
   },
   "cell_type": "code",
   "source": "df = pd.read_csv('data/medquad-kaggle-johnm.csv')",
   "id": "f68d7f5191a962eb",
   "outputs": [],
   "execution_count": 2
  },
  {
   "metadata": {
    "ExecuteTime": {
     "end_time": "2025-02-25T02:49:03.518319Z",
     "start_time": "2025-02-25T02:49:03.514820Z"
    }
   },
   "cell_type": "code",
   "source": "df.shape",
   "id": "7c5b9493657efbbb",
   "outputs": [
    {
     "data": {
      "text/plain": [
       "(16412, 4)"
      ]
     },
     "execution_count": 3,
     "metadata": {},
     "output_type": "execute_result"
    }
   ],
   "execution_count": 3
  },
  {
   "cell_type": "code",
   "id": "ad211965e39f4dfc",
   "metadata": {
    "ExecuteTime": {
     "end_time": "2025-02-25T02:49:03.529684Z",
     "start_time": "2025-02-25T02:49:03.524602Z"
    }
   },
   "source": "df.head(2)",
   "outputs": [
    {
     "data": {
      "text/plain": [
       "                   question  \\\n",
       "0  What is (are) Glaucoma ?   \n",
       "1    What causes Glaucoma ?   \n",
       "\n",
       "                                              answer           source  \\\n",
       "0  Glaucoma is a group of diseases that can damag...  NIHSeniorHealth   \n",
       "1  Nearly 2.7 million people have glaucoma, a lea...  NIHSeniorHealth   \n",
       "\n",
       "  focus_area  \n",
       "0   Glaucoma  \n",
       "1   Glaucoma  "
      ],
      "text/html": [
       "<div>\n",
       "<style scoped>\n",
       "    .dataframe tbody tr th:only-of-type {\n",
       "        vertical-align: middle;\n",
       "    }\n",
       "\n",
       "    .dataframe tbody tr th {\n",
       "        vertical-align: top;\n",
       "    }\n",
       "\n",
       "    .dataframe thead th {\n",
       "        text-align: right;\n",
       "    }\n",
       "</style>\n",
       "<table border=\"1\" class=\"dataframe\">\n",
       "  <thead>\n",
       "    <tr style=\"text-align: right;\">\n",
       "      <th></th>\n",
       "      <th>question</th>\n",
       "      <th>answer</th>\n",
       "      <th>source</th>\n",
       "      <th>focus_area</th>\n",
       "    </tr>\n",
       "  </thead>\n",
       "  <tbody>\n",
       "    <tr>\n",
       "      <th>0</th>\n",
       "      <td>What is (are) Glaucoma ?</td>\n",
       "      <td>Glaucoma is a group of diseases that can damag...</td>\n",
       "      <td>NIHSeniorHealth</td>\n",
       "      <td>Glaucoma</td>\n",
       "    </tr>\n",
       "    <tr>\n",
       "      <th>1</th>\n",
       "      <td>What causes Glaucoma ?</td>\n",
       "      <td>Nearly 2.7 million people have glaucoma, a lea...</td>\n",
       "      <td>NIHSeniorHealth</td>\n",
       "      <td>Glaucoma</td>\n",
       "    </tr>\n",
       "  </tbody>\n",
       "</table>\n",
       "</div>"
      ]
     },
     "execution_count": 4,
     "metadata": {},
     "output_type": "execute_result"
    }
   ],
   "execution_count": 4
  },
  {
   "metadata": {},
   "cell_type": "markdown",
   "source": [
    "## 1. What the dataset contains?\n",
    "We need a corpus that contains medical words for building a medical dictionary (vocab). Therefore, we need to investigate whether the obtained corpus contains the required."
   ],
   "id": "a2e9f70a93c7f2c9"
  },
  {
   "metadata": {
    "ExecuteTime": {
     "end_time": "2025-02-25T02:49:03.616935Z",
     "start_time": "2025-02-25T02:49:03.611693Z"
    }
   },
   "cell_type": "code",
   "source": [
    "# Let's investigate the data types and columns in the dataset.\n",
    "df.info()"
   ],
   "id": "61a82c826d392f08",
   "outputs": [
    {
     "name": "stdout",
     "output_type": "stream",
     "text": [
      "<class 'pandas.core.frame.DataFrame'>\n",
      "RangeIndex: 16412 entries, 0 to 16411\n",
      "Data columns (total 4 columns):\n",
      " #   Column      Non-Null Count  Dtype \n",
      "---  ------      --------------  ----- \n",
      " 0   question    16412 non-null  object\n",
      " 1   answer      16407 non-null  object\n",
      " 2   source      16412 non-null  object\n",
      " 3   focus_area  16398 non-null  object\n",
      "dtypes: object(4)\n",
      "memory usage: 513.0+ KB\n"
     ]
    }
   ],
   "execution_count": 5
  },
  {
   "metadata": {
    "ExecuteTime": {
     "end_time": "2025-02-25T02:49:03.667705Z",
     "start_time": "2025-02-25T02:49:03.644288Z"
    }
   },
   "cell_type": "code",
   "source": [
    "# It appears there are four columns, and all columns contains string datatype.\n",
    "# Let's investigate which column will be more sensible for building the vocab.\n",
    "df.describe()"
   ],
   "id": "ea95daddeb8d732d",
   "outputs": [
    {
     "data": {
      "text/plain": [
       "                                question  \\\n",
       "count                              16412   \n",
       "unique                             14984   \n",
       "top     What causes Causes of Diabetes ?   \n",
       "freq                                  20   \n",
       "\n",
       "                                                   answer source  \\\n",
       "count                                               16407  16412   \n",
       "unique                                              15817      9   \n",
       "top     This condition is inherited in an autosomal re...    GHR   \n",
       "freq                                                  348   5430   \n",
       "\n",
       "           focus_area  \n",
       "count           16398  \n",
       "unique           5126  \n",
       "top     Breast Cancer  \n",
       "freq               53  "
      ],
      "text/html": [
       "<div>\n",
       "<style scoped>\n",
       "    .dataframe tbody tr th:only-of-type {\n",
       "        vertical-align: middle;\n",
       "    }\n",
       "\n",
       "    .dataframe tbody tr th {\n",
       "        vertical-align: top;\n",
       "    }\n",
       "\n",
       "    .dataframe thead th {\n",
       "        text-align: right;\n",
       "    }\n",
       "</style>\n",
       "<table border=\"1\" class=\"dataframe\">\n",
       "  <thead>\n",
       "    <tr style=\"text-align: right;\">\n",
       "      <th></th>\n",
       "      <th>question</th>\n",
       "      <th>answer</th>\n",
       "      <th>source</th>\n",
       "      <th>focus_area</th>\n",
       "    </tr>\n",
       "  </thead>\n",
       "  <tbody>\n",
       "    <tr>\n",
       "      <th>count</th>\n",
       "      <td>16412</td>\n",
       "      <td>16407</td>\n",
       "      <td>16412</td>\n",
       "      <td>16398</td>\n",
       "    </tr>\n",
       "    <tr>\n",
       "      <th>unique</th>\n",
       "      <td>14984</td>\n",
       "      <td>15817</td>\n",
       "      <td>9</td>\n",
       "      <td>5126</td>\n",
       "    </tr>\n",
       "    <tr>\n",
       "      <th>top</th>\n",
       "      <td>What causes Causes of Diabetes ?</td>\n",
       "      <td>This condition is inherited in an autosomal re...</td>\n",
       "      <td>GHR</td>\n",
       "      <td>Breast Cancer</td>\n",
       "    </tr>\n",
       "    <tr>\n",
       "      <th>freq</th>\n",
       "      <td>20</td>\n",
       "      <td>348</td>\n",
       "      <td>5430</td>\n",
       "      <td>53</td>\n",
       "    </tr>\n",
       "  </tbody>\n",
       "</table>\n",
       "</div>"
      ]
     },
     "execution_count": 6,
     "metadata": {},
     "output_type": "execute_result"
    }
   ],
   "execution_count": 6
  },
  {
   "metadata": {},
   "cell_type": "markdown",
   "source": [
    "Logically assumption: average length of answers should be greater than questions; means, more texts in answers column. \\\n",
    "Let's investigate the assumption.\n"
   ],
   "id": "e1391d9d1f0e8512"
  },
  {
   "metadata": {
    "ExecuteTime": {
     "end_time": "2025-02-25T02:49:03.726028Z",
     "start_time": "2025-02-25T02:49:03.724125Z"
    }
   },
   "cell_type": "code",
   "source": [
    "# The following function returns token count for given text, it will be used for calculating\n",
    "# average tokens for questions & answers.\n",
    "def token_count(x):\n",
    "    return len(word_tokenize(x))"
   ],
   "id": "20e3b58934f9c708",
   "outputs": [],
   "execution_count": 7
  },
  {
   "metadata": {},
   "cell_type": "markdown",
   "source": "Before we use the word_tokenizer to count the tokens in each column, we need to drop the missing values to avoid exceptions.",
   "id": "1576b8c0aa210b03"
  },
  {
   "metadata": {
    "ExecuteTime": {
     "end_time": "2025-02-25T02:49:03.762773Z",
     "start_time": "2025-02-25T02:49:03.758851Z"
    }
   },
   "cell_type": "code",
   "source": [
    "# Let's find out the missing values first.\n",
    "df.isnull().sum()"
   ],
   "id": "76713f489bacd3b3",
   "outputs": [
    {
     "data": {
      "text/plain": [
       "question       0\n",
       "answer         5\n",
       "source         0\n",
       "focus_area    14\n",
       "dtype: int64"
      ]
     },
     "execution_count": 8,
     "metadata": {},
     "output_type": "execute_result"
    }
   ],
   "execution_count": 8
  },
  {
   "metadata": {
    "ExecuteTime": {
     "end_time": "2025-02-25T02:49:04.401715Z",
     "start_time": "2025-02-25T02:49:03.803182Z"
    }
   },
   "cell_type": "code",
   "source": [
    "# From the above we can conclude, question column doesn't have missing values meanwhile, answer column have 5.\n",
    "cnt = df['question'].apply(token_count).sum()\n",
    "print(f'Questions have {cnt} count of tokens.')"
   ],
   "id": "9b0960dd56836b97",
   "outputs": [
    {
     "name": "stdout",
     "output_type": "stream",
     "text": [
      "Questions have 146185 count of tokens.\n"
     ]
    }
   ],
   "execution_count": 9
  },
  {
   "metadata": {
    "ExecuteTime": {
     "end_time": "2025-02-25T02:49:15.133493Z",
     "start_time": "2025-02-25T02:49:04.424092Z"
    }
   },
   "cell_type": "code",
   "source": [
    "# Drop only rows with missing values on the answer columns.\n",
    "df = df[df['answer'].notna()]\n",
    "\n",
    "cnt = df['answer'].apply(token_count).sum()\n",
    "print(f'Answers have {cnt} count of tokens.')"
   ],
   "id": "e8e9dbb9cec7360b",
   "outputs": [
    {
     "name": "stdout",
     "output_type": "stream",
     "text": [
      "Answers have 3731909 count of tokens.\n"
     ]
    }
   ],
   "execution_count": 10
  },
  {
   "metadata": {},
   "cell_type": "markdown",
   "source": [
    "## 2. Which feature needed?\n",
    "In the EDA, two columns (question & answer) from the dataset was expected to have the required texts to build the vocab. For that, an hypothesis made that the answer column would have longer text than question column. The hypothesis was true, and therefore, the text from the answer column will be preprocessed for building the corpus.\\\n",
    "\n",
    "In the preprocessing to build the vocab, we need to:\n",
    "1. Clean the text from answer column - only words (others are stripped)\n",
    "2. Get lemma for each words to avoid redundant word with the same meaning\n",
    "3. Only include unique words into vocab"
   ],
   "id": "d9f859c57df3994c"
  },
  {
   "metadata": {
    "ExecuteTime": {
     "end_time": "2025-02-25T02:49:25.082215Z",
     "start_time": "2025-02-25T02:49:15.137287Z"
    }
   },
   "cell_type": "code",
   "source": [
    "# 1. Clean the text from answer column - only words (others are stripped)\n",
    "from nltk.corpus import stopwords\n",
    "import re\n",
    "\n",
    "# Define the regex pattern for removing URLs.\n",
    "url_regex = r\"(?i)\\b((?:https?://|www\\d{0,3}[.]|[a-z0-9.\\-]+[.][a-z]{2,4}/)(?:[^\\s()<>]+|\\(([^\\s()<>]+|(\\([^\\s()<>]+\\)))*\\))+(?:\\(([^\\s()<>]+|(\\([^\\s()<>]+\\)))*\\)|[^\\s`!()\\[\\]{};:'\\\".,<>?«»“”‘’]))\"\n",
    "\n",
    "html_regex = r\"<[^/>][^>]*>\"\n",
    "\n",
    "# Acquire the stop words from NLTK corpus.\n",
    "stop_words = stopwords.words('english')\n",
    "\n",
    "# To store all the processed tokens.\n",
    "corpus_token_list = []\n",
    "\n",
    "# Tracing value for debugging.\n",
    "i = 0\n",
    "token_cnt = 0\n",
    "filtered_token_cnt = 0\n",
    "try:\n",
    "    for text in df['answer']:\n",
    "        # Remove URLs.\n",
    "        clean_text = re.sub(url_regex, '', text)\n",
    "        # Remove HTML tags.\n",
    "        clean_text = re.sub(html_regex, '', clean_text)\n",
    "        # Only select words.\n",
    "        clean_text = re.sub(r'[^a-z]', ' ', clean_text.lower())\n",
    "\n",
    "        # Tokenize the text.\n",
    "        tokens = word_tokenize(clean_text)\n",
    "\n",
    "        # Tracing unfiltered-token count.\n",
    "        token_cnt += len(tokens)\n",
    "\n",
    "        # Filter stop words.\n",
    "        filtered_text = [w for w in tokens if not w.lower() in stop_words]\n",
    "\n",
    "        # Tracing filtered-token count for debugging.\n",
    "        filtered_token_cnt += len(filtered_text)\n",
    "\n",
    "        # Add the filtered words into corpus token_list.\n",
    "        corpus_token_list.append(filtered_text)\n",
    "\n",
    "        # Tracing row-count for debugging.\n",
    "        i += 1\n",
    "except Exception as e:\n",
    "    print(f'Exception {e.message} in {i}.')\n",
    "\n",
    "print(f'Rows processed:[{i}], unfiltered tokens:[{token_cnt}], filtered tokens:[{filtered_token_cnt}]')\n",
    "print(f'Corpus entry count:[{len(corpus_token_list)}].')"
   ],
   "id": "629c081b1daa49fe",
   "outputs": [
    {
     "name": "stdout",
     "output_type": "stream",
     "text": [
      "Rows processed:[16407], unfiltered tokens:[3236280], filtered tokens:[1947878]\n",
      "Corpus entry count:[16407].\n"
     ]
    }
   ],
   "execution_count": 11
  },
  {
   "metadata": {
    "ExecuteTime": {
     "end_time": "2025-02-25T02:49:30.218576Z",
     "start_time": "2025-02-25T02:49:25.088564Z"
    }
   },
   "cell_type": "code",
   "source": [
    "# 2. Get lemma for each words to avoid redundant word with the same meaning\n",
    "from nltk.stem import WordNetLemmatizer\n",
    "\n",
    "# nltk.download('wordnet')\n",
    "lemmatizer = WordNetLemmatizer()\n",
    "\n",
    "# List for storing token's lemma.\n",
    "corpus_lemma_list = []\n",
    "\n",
    "# Tracing value for debugging.\n",
    "i = 0\n",
    "token_cnt = 0\n",
    "filtered_token_cnt = 0\n",
    "for entry in corpus_token_list:\n",
    "    entry_list = []\n",
    "    for token in entry:\n",
    "        entry_list.append(lemmatizer.lemmatize(token))\n",
    "        filtered_token_cnt += 1\n",
    "\n",
    "    # Add entry (token for single answer) in the list for further processing.\n",
    "    corpus_lemma_list.append(entry_list)\n",
    "    i = i + 1\n",
    "\n",
    "print(f'Rows processed:[{i}], filtered tokens:[{filtered_token_cnt}]')\n",
    "print(f'Corpus entry count:[{len(corpus_token_list)}].')"
   ],
   "id": "da6a2275de54217a",
   "outputs": [
    {
     "name": "stdout",
     "output_type": "stream",
     "text": [
      "Rows processed:[16407], filtered tokens:[1947878]\n",
      "Corpus entry count:[16407].\n"
     ]
    }
   ],
   "execution_count": 12
  },
  {
   "metadata": {
    "ExecuteTime": {
     "end_time": "2025-02-25T02:49:37.382623Z",
     "start_time": "2025-02-25T02:49:30.225529Z"
    }
   },
   "cell_type": "code",
   "source": [
    "# Let's see the most frequent words in the vocab.\n",
    "import wordcloud\n",
    "import matplotlib.pyplot as plt\n",
    "\n",
    "text = ''\n",
    "for entry in corpus_lemma_list:\n",
    "    for token in entry:\n",
    "        text += ' ' + token\n",
    "\n",
    "word_cloud = wordcloud.WordCloud(background_color='white').generate(text)\n",
    "plt.figure(figsize=(15, 8), facecolor=None)\n",
    "plt.imshow(word_cloud)\n",
    "plt.axis(\"off\")\n",
    "plt.tight_layout(pad=0)\n",
    "plt.show()"
   ],
   "id": "b8e5a5d43fd45f69",
   "outputs": [
    {
     "data": {
      "text/plain": [
       "<Figure size 1500x800 with 1 Axes>"
      ],
      "image/png": "[encoded data removed]"
     },
     "metadata": {},
     "output_type": "display_data"
    }
   ],
   "execution_count": 13
  },
  {
   "metadata": {
    "ExecuteTime": {
     "end_time": "2025-02-25T02:50:13.199544Z",
     "start_time": "2025-02-25T02:49:39.881527Z"
    }
   },
   "cell_type": "code",
   "source": [
    "# 3. Only include unique words into vocab\n",
    "\n",
    "# Final vocab to store the lemmas from the corpus.\n",
    "vocab_list = []\n",
    "for entry in corpus_lemma_list:\n",
    "    for word in entry:\n",
    "        if word not in vocab_list:\n",
    "            vocab_list.append(word)\n",
    "\n",
    "print(f'Vocab entry count (unique words):[{len(vocab_list)}].')"
   ],
   "id": "e1c15bd8f4ea6371",
   "outputs": [
    {
     "name": "stdout",
     "output_type": "stream",
     "text": [
      "Vocab entry count (unique words):[24561].\n"
     ]
    }
   ],
   "execution_count": 14
  },
  {
   "metadata": {},
   "cell_type": "markdown",
   "source": [
    "## 3. What is the expected outcome?\n",
    "Now, we have the unique medical words stored in vocab and ready for creating a NLTK corpus for spelling checking."
   ],
   "id": "65a319105175033e"
  },
  {
   "metadata": {
    "ExecuteTime": {
     "end_time": "2025-02-25T02:50:15.071487Z",
     "start_time": "2025-02-25T02:50:13.206913Z"
    }
   },
   "cell_type": "code",
   "source": [
    "# Save the vocab into custom NLTK corpus format.\n",
    "\n",
    "import os\n",
    "\n",
    "# Get corpus path from app config.\n",
    "config = Configuration()\n",
    "\n",
    "# Organize the vocab into custom folder.\n",
    "corpus_dir = config.config_values['corpus_medical']\n",
    "if not os.path.exists(corpus_dir):\n",
    "    os.makedirs(corpus_dir)\n",
    "\n",
    "# Write words (lemma) to separate files in the corpus directory.\n",
    "for i, text in enumerate(vocab_list):\n",
    "    with open(os.path.join(corpus_dir, f'doc{i + 1}.txt'), 'w', encoding='utf-8') as file:\n",
    "        file.write(text)"
   ],
   "id": "ffe8c9b32661736f",
   "outputs": [],
   "execution_count": 15
  },
  {
   "metadata": {
    "ExecuteTime": {
     "end_time": "2025-02-25T02:50:18.806161Z",
     "start_time": "2025-02-25T02:50:15.078795Z"
    }
   },
   "cell_type": "code",
   "source": [
    "# Load the custom NLTK corpus.\n",
    "from nltk.corpus import PlaintextCorpusReader\n",
    "\n",
    "# Step 3: Create an NLTK Corpus Reader\n",
    "corpus = PlaintextCorpusReader(corpus_dir, '.*\\.txt')\n",
    "\n",
    "print(f'There are {len(corpus.words())} words in custom corpus.')"
   ],
   "id": "99feedb22a58d5d9",
   "outputs": [
    {
     "name": "stdout",
     "output_type": "stream",
     "text": [
      "There are 24561 words in custom corpus.\n"
     ]
    }
   ],
   "execution_count": 16
  },
  {
   "metadata": {
    "ExecuteTime": {
     "end_time": "2025-02-25T02:52:50.207807Z",
     "start_time": "2025-02-25T02:52:46.197046Z"
    }
   },
   "cell_type": "code",
   "source": [
    "# Testing: load the corpus and perform edit-distance for given real-word.\n",
    "from nltk import edit_distance\n",
    "\n",
    "test_word = 'glacoma'\n",
    "\n",
    "if test_word not in corpus.words():\n",
    "    print(f'Test word {test_word} not in corpus.')\n",
    "    for w in corpus.words():\n",
    "        m = edit_distance(test_word, w)\n",
    "        if m == 1:\n",
    "            print(f'Word {w} edit distance is {m}.')\n",
    "            break\n",
    "else:\n",
    "    print(f'Test word {test_word} exists in corpus.')\n"
   ],
   "id": "3658080d8b69389c",
   "outputs": [
    {
     "name": "stdout",
     "output_type": "stream",
     "text": [
      "Test word glacoma not in corpus.\n",
      "Word glaucoma edit distance is 1.\n"
     ]
    }
   ],
   "execution_count": 18
  }
 ],
 "metadata": {
  "kernelspec": {
   "display_name": "Python 3 (ipykernel)",
   "language": "python",
   "name": "python3"
  },
  "language_info": {
   "codemirror_mode": {
    "name": "ipython",
    "version": 3
   },
   "file_extension": ".py",
   "mimetype": "text/x-python",
   "name": "python",
   "nbconvert_exporter": "python",
   "pygments_lexer": "ipython3",
   "version": "3.9.6"
  }
 },
 "nbformat": 4,
 "nbformat_minor": 5
}
