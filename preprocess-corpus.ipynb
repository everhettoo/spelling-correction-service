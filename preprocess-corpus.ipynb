{
 "cells": [
  {
   "metadata": {},
   "cell_type": "markdown",
   "source": [
    "# Objectives:\n",
    "We need to build medical vocabulary (word dictionary) for spelling checker. The following dataset was found useful for building vocab:(https://www.kaggle.com/datasets/jpmiller/layoutlm/data)\n",
    "\n",
    "Before building the vocab, the following questions needs to be clarified:\n",
    "1. What the dataset contains (EDA)?\n",
    "2. Which feature needed?\n",
    "3. What is the expected outcome?\n",
    "\n",
    "Once, these questions are clarified, we can proceed building a custom NLTK corpus."
   ],
   "id": "31f363de6c0adfb5"
  },
  {
   "metadata": {
    "ExecuteTime": {
     "end_time": "2025-02-25T06:48:08.252772Z",
     "start_time": "2025-02-25T06:48:08.250253Z"
    }
   },
   "cell_type": "code",
   "source": [
    "import pandas as pd\n",
    "from nltk import RegexpTokenizer\n",
    "from nltk.tokenize import word_tokenize\n",
    "import statistics\n",
    "\n",
    "from nltk.translate.bleu_score import corpus_bleu\n",
    "\n",
    "from app_config import Configuration"
   ],
   "id": "3b42496ad2ad5d83",
   "outputs": [],
   "execution_count": 14
  },
  {
   "metadata": {
    "ExecuteTime": {
     "end_time": "2025-02-25T06:48:09.288253Z",
     "start_time": "2025-02-25T06:48:09.131082Z"
    }
   },
   "cell_type": "code",
   "source": "df = pd.read_csv('data/medquad-kaggle-johnm.csv')",
   "id": "f68d7f5191a962eb",
   "outputs": [],
   "execution_count": 15
  },
  {
   "metadata": {},
   "cell_type": "code",
   "source": "df.shape",
   "id": "7c5b9493657efbbb",
   "outputs": [],
   "execution_count": null
  },
  {
   "cell_type": "code",
   "id": "ad211965e39f4dfc",
   "metadata": {},
   "source": "df.head(2)",
   "outputs": [],
   "execution_count": null
  },
  {
   "metadata": {},
   "cell_type": "markdown",
   "source": [
    "## 1. What the dataset contains?\n",
    "We need a corpus that contains medical words for building a medical dictionary (vocab). Therefore, we need to investigate whether the obtained corpus contains the required."
   ],
   "id": "a2e9f70a93c7f2c9"
  },
  {
   "metadata": {},
   "cell_type": "code",
   "source": [
    "# Let's investigate the data types and columns in the dataset.\n",
    "df.info()"
   ],
   "id": "61a82c826d392f08",
   "outputs": [],
   "execution_count": null
  },
  {
   "metadata": {},
   "cell_type": "code",
   "source": [
    "# It appears there are four columns, and all columns contains string datatype.\n",
    "# Let's investigate which column will be more sensible for building the vocab.\n",
    "df.describe()"
   ],
   "id": "ea95daddeb8d732d",
   "outputs": [],
   "execution_count": null
  },
  {
   "metadata": {},
   "cell_type": "markdown",
   "source": [
    "Logically assumption: average length of answers should be greater than questions; means, more texts in answers column. \\\n",
    "Let's investigate the assumption.\n"
   ],
   "id": "e1391d9d1f0e8512"
  },
  {
   "metadata": {
    "ExecuteTime": {
     "end_time": "2025-02-25T06:48:12.454913Z",
     "start_time": "2025-02-25T06:48:12.452665Z"
    }
   },
   "cell_type": "code",
   "source": [
    "# The following function returns token count for given text, it will be used for calculating\n",
    "# average tokens for questions & answers.\n",
    "def token_count(x):\n",
    "    return len(word_tokenize(x))"
   ],
   "id": "20e3b58934f9c708",
   "outputs": [],
   "execution_count": 16
  },
  {
   "metadata": {},
   "cell_type": "markdown",
   "source": "Before we use the word_tokenizer to count the tokens in each column, we need to drop the missing values to avoid exceptions.",
   "id": "1576b8c0aa210b03"
  },
  {
   "metadata": {},
   "cell_type": "code",
   "source": [
    "# Let's find out the missing values first.\n",
    "df.isnull().sum()"
   ],
   "id": "76713f489bacd3b3",
   "outputs": [],
   "execution_count": null
  },
  {
   "metadata": {
    "ExecuteTime": {
     "end_time": "2025-02-25T06:48:17.555414Z",
     "start_time": "2025-02-25T06:48:16.996763Z"
    }
   },
   "cell_type": "code",
   "source": [
    "# From the above we can conclude, question column doesn't have missing values meanwhile, answer column have 5.\n",
    "cnt = df['question'].apply(token_count).sum()\n",
    "print(f'Questions have {cnt} count of tokens.')"
   ],
   "id": "9b0960dd56836b97",
   "outputs": [
    {
     "name": "stdout",
     "output_type": "stream",
     "text": [
      "Questions have 146185 count of tokens.\n"
     ]
    }
   ],
   "execution_count": 17
  },
  {
   "metadata": {
    "ExecuteTime": {
     "end_time": "2025-02-25T06:48:29.056270Z",
     "start_time": "2025-02-25T06:48:18.562116Z"
    }
   },
   "cell_type": "code",
   "source": [
    "# Drop only rows with missing values on the answer columns.\n",
    "df = df[df['answer'].notna()]\n",
    "\n",
    "cnt = df['answer'].apply(token_count).sum()\n",
    "print(f'Answers have {cnt} count of tokens.')"
   ],
   "id": "e8e9dbb9cec7360b",
   "outputs": [
    {
     "name": "stdout",
     "output_type": "stream",
     "text": [
      "Answers have 3731909 count of tokens.\n"
     ]
    }
   ],
   "execution_count": 18
  },
  {
   "metadata": {},
   "cell_type": "markdown",
   "source": [
    "## 2. Which feature needed?\n",
    "In the EDA, two columns (question & answer) from the dataset was expected to have the required texts to build the vocab. For that, an hypothesis made that the answer column would have longer text than question column. The hypothesis was true, and therefore, the text from the answer column will be preprocessed for building the corpus.\\\n",
    "\n",
    "In the preprocessing to build the vocab, we need to:\n",
    "1. Clean the text from answer column - only words (others are stripped)\n",
    "2. Get lemma for each words to avoid redundant word with the same meaning\n",
    "3. Only include unique words into vocab"
   ],
   "id": "d9f859c57df3994c"
  },
  {
   "metadata": {
    "ExecuteTime": {
     "end_time": "2025-02-25T06:50:25.020773Z",
     "start_time": "2025-02-25T06:50:08.507886Z"
    }
   },
   "cell_type": "code",
   "source": [
    "from importlib import reload\n",
    "# 1. Clean the text from answer column - only words (others are stripped)\n",
    "from nltk.corpus import stopwords\n",
    "import utils.regex as rx\n",
    "\n",
    "reload(rx)\n",
    "\n",
    "# Acquire the stop words from NLTK corpus.\n",
    "stop_words = stopwords.words('english')\n",
    "\n",
    "# To store all the processed tokens.\n",
    "corpus_token_list = []\n",
    "\n",
    "# Tracing value for debugging.\n",
    "i = 0\n",
    "token_cnt = 0\n",
    "filtered_token_cnt = 0\n",
    "cleanse_data = pd.DataFrame(columns=['row', 'original', 'cleansed'])\n",
    "try:\n",
    "    for text in df['answer']:\n",
    "        # Remove URLs.\n",
    "        clean_text = rx.remove_url(text)\n",
    "        # # Remove HTML tags.\n",
    "        clean_text = rx.remove_html(clean_text)\n",
    "        # # Remove bracketed words (usually acronyms).\n",
    "        clean_text = rx.remove_bracketed_text(clean_text)\n",
    "        # Transform contradictions to full form first before removing stop words.\n",
    "        clean_text = rx.transform_contractions(clean_text)\n",
    "        # Get only words.\n",
    "        clean_text = rx.get_words(clean_text.lower())\n",
    "        # Remove all extra spaces.\n",
    "        clean_text = rx.remove_extra_space(clean_text)\n",
    "\n",
    "        # For tracing raw to cleanse.\n",
    "        cleanse_data.loc[len(cleanse_data)] = [i, text, clean_text]\n",
    "\n",
    "        # Tokenize the text.\n",
    "        tokens = word_tokenize(clean_text)\n",
    "\n",
    "        # Tracing unfiltered-token count.\n",
    "        token_cnt += len(tokens)\n",
    "\n",
    "        # Filter stop words.\n",
    "        filtered_text = [w for w in tokens if not w.lower() in stop_words]\n",
    "\n",
    "        # Tracing filtered-token count for debugging.\n",
    "        filtered_token_cnt += len(filtered_text)\n",
    "\n",
    "        # Add the filtered words into corpus token_list.\n",
    "        corpus_token_list.append(filtered_text)\n",
    "\n",
    "        # Tracing row-count for debugging.\n",
    "        i += 1\n",
    "except Exception as e:\n",
    "    print(f'Exception {e} in {i}.')\n",
    "\n",
    "print(f'Rows processed:[{i}], unfiltered tokens:[{token_cnt}], filtered tokens:[{filtered_token_cnt}]')\n",
    "print(f'Corpus entry count:[{len(corpus_token_list)}].')\n",
    "\n",
    "cleanse_data.to_csv('data/cleanse-data.csv', index=False)"
   ],
   "id": "2c5e211a1e06408f",
   "outputs": [
    {
     "name": "stdout",
     "output_type": "stream",
     "text": [
      "Rows processed:[16407], unfiltered tokens:[3151455], filtered tokens:[1885840]\n",
      "Corpus entry count:[16407].\n"
     ]
    }
   ],
   "execution_count": 21
  },
  {
   "metadata": {
    "ExecuteTime": {
     "end_time": "2025-02-25T06:50:31.806456Z",
     "start_time": "2025-02-25T06:50:31.801293Z"
    }
   },
   "cell_type": "code",
   "source": "cleanse_data.iloc[580:590]",
   "id": "f1d64c170f9a3dd1",
   "outputs": [
    {
     "data": {
      "text/plain": [
       "     row                                           original  \\\n",
       "580  580  Here are links to more information about P.A.D...   \n",
       "581  581  Many Reasons for Abuse Drug abuse, whether pre...   \n",
       "582  582  Addiction is a chronic disease in which a pers...   \n",
       "583  583  Physical dependence is a normal process that c...   \n",
       "584  584  A persons behavior, especially changes in beha...   \n",
       "585  585  The prescription medications most commonly abu...   \n",
       "586  586  Medications affect older people differently th...   \n",
       "587  587  Marijuana is the most abused illicit drug amon...   \n",
       "588  588  Although under federal law, marijuana is illeg...   \n",
       "589  589  Not always. Some warning signs, such as sleep ...   \n",
       "\n",
       "                                              cleansed  \n",
       "580  here are links to more information about p a d...  \n",
       "581  many reasons for abuse drug abuse whether pres...  \n",
       "582  addiction is a chronic disease in which a pers...  \n",
       "583  physical dependence is a normal process that c...  \n",
       "584  a persons behavior especially changes in behav...  \n",
       "585  the prescription medications most commonly abu...  \n",
       "586  medications affect older people differently th...  \n",
       "587  marijuana is the most abused illicit drug amon...  \n",
       "588  although under federal law marijuana is illega...  \n",
       "589  not always some warning signs such as sleep pr...  "
      ],
      "text/html": [
       "<div>\n",
       "<style scoped>\n",
       "    .dataframe tbody tr th:only-of-type {\n",
       "        vertical-align: middle;\n",
       "    }\n",
       "\n",
       "    .dataframe tbody tr th {\n",
       "        vertical-align: top;\n",
       "    }\n",
       "\n",
       "    .dataframe thead th {\n",
       "        text-align: right;\n",
       "    }\n",
       "</style>\n",
       "<table border=\"1\" class=\"dataframe\">\n",
       "  <thead>\n",
       "    <tr style=\"text-align: right;\">\n",
       "      <th></th>\n",
       "      <th>row</th>\n",
       "      <th>original</th>\n",
       "      <th>cleansed</th>\n",
       "    </tr>\n",
       "  </thead>\n",
       "  <tbody>\n",
       "    <tr>\n",
       "      <th>580</th>\n",
       "      <td>580</td>\n",
       "      <td>Here are links to more information about P.A.D...</td>\n",
       "      <td>here are links to more information about p a d...</td>\n",
       "    </tr>\n",
       "    <tr>\n",
       "      <th>581</th>\n",
       "      <td>581</td>\n",
       "      <td>Many Reasons for Abuse Drug abuse, whether pre...</td>\n",
       "      <td>many reasons for abuse drug abuse whether pres...</td>\n",
       "    </tr>\n",
       "    <tr>\n",
       "      <th>582</th>\n",
       "      <td>582</td>\n",
       "      <td>Addiction is a chronic disease in which a pers...</td>\n",
       "      <td>addiction is a chronic disease in which a pers...</td>\n",
       "    </tr>\n",
       "    <tr>\n",
       "      <th>583</th>\n",
       "      <td>583</td>\n",
       "      <td>Physical dependence is a normal process that c...</td>\n",
       "      <td>physical dependence is a normal process that c...</td>\n",
       "    </tr>\n",
       "    <tr>\n",
       "      <th>584</th>\n",
       "      <td>584</td>\n",
       "      <td>A persons behavior, especially changes in beha...</td>\n",
       "      <td>a persons behavior especially changes in behav...</td>\n",
       "    </tr>\n",
       "    <tr>\n",
       "      <th>585</th>\n",
       "      <td>585</td>\n",
       "      <td>The prescription medications most commonly abu...</td>\n",
       "      <td>the prescription medications most commonly abu...</td>\n",
       "    </tr>\n",
       "    <tr>\n",
       "      <th>586</th>\n",
       "      <td>586</td>\n",
       "      <td>Medications affect older people differently th...</td>\n",
       "      <td>medications affect older people differently th...</td>\n",
       "    </tr>\n",
       "    <tr>\n",
       "      <th>587</th>\n",
       "      <td>587</td>\n",
       "      <td>Marijuana is the most abused illicit drug amon...</td>\n",
       "      <td>marijuana is the most abused illicit drug amon...</td>\n",
       "    </tr>\n",
       "    <tr>\n",
       "      <th>588</th>\n",
       "      <td>588</td>\n",
       "      <td>Although under federal law, marijuana is illeg...</td>\n",
       "      <td>although under federal law marijuana is illega...</td>\n",
       "    </tr>\n",
       "    <tr>\n",
       "      <th>589</th>\n",
       "      <td>589</td>\n",
       "      <td>Not always. Some warning signs, such as sleep ...</td>\n",
       "      <td>not always some warning signs such as sleep pr...</td>\n",
       "    </tr>\n",
       "  </tbody>\n",
       "</table>\n",
       "</div>"
      ]
     },
     "execution_count": 22,
     "metadata": {},
     "output_type": "execute_result"
    }
   ],
   "execution_count": 22
  },
  {
   "metadata": {
    "ExecuteTime": {
     "end_time": "2025-02-25T07:09:25.199849Z",
     "start_time": "2025-02-25T07:08:29.403398Z"
    }
   },
   "cell_type": "code",
   "source": [
    "# 2. Get lemma for each words to avoid redundant word with the same meaning\n",
    "from nltk.stem import WordNetLemmatizer\n",
    "\n",
    "# nltk.download('wordnet')\n",
    "lemmatizer = WordNetLemmatizer()\n",
    "\n",
    "# List for storing token's lemma.\n",
    "corpus_lemma_list = []\n",
    "\n",
    "# Tracing value for debugging.\n",
    "i = 0\n",
    "token_cnt = 0\n",
    "filtered_token_cnt = 0\n",
    "# normalized_data = pd.DataFrame(columns=['row', 'original', 'normalized'])\n",
    "trace_list = []\n",
    "for entry in corpus_token_list:\n",
    "    entry_list = []\n",
    "    for token in entry:\n",
    "        normalized_token = lemmatizer.lemmatize(token)\n",
    "        entry_list.append(normalized_token)\n",
    "\n",
    "        # For tracing raw to cleanse.\n",
    "        trace_list.append([i, token, normalized_token])\n",
    "        # normalized_data.loc[len(normalized_data)] = [i, token, normalized_token]\n",
    "\n",
    "        filtered_token_cnt += 1\n",
    "\n",
    "    # Add entry (token for single answer) in the list for further processing.\n",
    "    corpus_lemma_list.append(entry_list)\n",
    "    i = i + 1\n",
    "\n",
    "print(f'Rows processed:[{i}], filtered tokens:[{filtered_token_cnt}]')\n",
    "print(f'Corpus entry count:[{len(corpus_token_list)}].')\n",
    "\n",
    "normalized_data = pd.DataFrame(trace_list, columns=['row', 'original', 'normalized'])\n",
    "normalized_data.to_csv('data/normalized-data.csv', index=False)"
   ],
   "id": "ed7e2093a951bc5e",
   "outputs": [
    {
     "name": "stdout",
     "output_type": "stream",
     "text": [
      "Rows processed:[16407], filtered tokens:[1885840]\n",
      "Corpus entry count:[16407].\n"
     ]
    }
   ],
   "execution_count": 37
  },
  {
   "metadata": {
    "ExecuteTime": {
     "end_time": "2025-02-25T07:10:04.150208Z",
     "start_time": "2025-02-25T07:10:04.144920Z"
    }
   },
   "cell_type": "code",
   "source": "normalized_data.iloc[1280:1290]",
   "id": "4206fb9d61a5cc50",
   "outputs": [
    {
     "data": {
      "text/plain": [
       "      row      original    normalized\n",
       "1280   14      pressure      pressure\n",
       "1281   14         often         often\n",
       "1282   14        called        called\n",
       "1283   14        silent        silent\n",
       "1284   14        killer        killer\n",
       "1285   14       usually       usually\n",
       "1286   14      symptoms       symptom\n",
       "1287   14  occasionally  occasionally\n",
       "1288   14     headaches      headache\n",
       "1289   14           may           may"
      ],
      "text/html": [
       "<div>\n",
       "<style scoped>\n",
       "    .dataframe tbody tr th:only-of-type {\n",
       "        vertical-align: middle;\n",
       "    }\n",
       "\n",
       "    .dataframe tbody tr th {\n",
       "        vertical-align: top;\n",
       "    }\n",
       "\n",
       "    .dataframe thead th {\n",
       "        text-align: right;\n",
       "    }\n",
       "</style>\n",
       "<table border=\"1\" class=\"dataframe\">\n",
       "  <thead>\n",
       "    <tr style=\"text-align: right;\">\n",
       "      <th></th>\n",
       "      <th>row</th>\n",
       "      <th>original</th>\n",
       "      <th>normalized</th>\n",
       "    </tr>\n",
       "  </thead>\n",
       "  <tbody>\n",
       "    <tr>\n",
       "      <th>1280</th>\n",
       "      <td>14</td>\n",
       "      <td>pressure</td>\n",
       "      <td>pressure</td>\n",
       "    </tr>\n",
       "    <tr>\n",
       "      <th>1281</th>\n",
       "      <td>14</td>\n",
       "      <td>often</td>\n",
       "      <td>often</td>\n",
       "    </tr>\n",
       "    <tr>\n",
       "      <th>1282</th>\n",
       "      <td>14</td>\n",
       "      <td>called</td>\n",
       "      <td>called</td>\n",
       "    </tr>\n",
       "    <tr>\n",
       "      <th>1283</th>\n",
       "      <td>14</td>\n",
       "      <td>silent</td>\n",
       "      <td>silent</td>\n",
       "    </tr>\n",
       "    <tr>\n",
       "      <th>1284</th>\n",
       "      <td>14</td>\n",
       "      <td>killer</td>\n",
       "      <td>killer</td>\n",
       "    </tr>\n",
       "    <tr>\n",
       "      <th>1285</th>\n",
       "      <td>14</td>\n",
       "      <td>usually</td>\n",
       "      <td>usually</td>\n",
       "    </tr>\n",
       "    <tr>\n",
       "      <th>1286</th>\n",
       "      <td>14</td>\n",
       "      <td>symptoms</td>\n",
       "      <td>symptom</td>\n",
       "    </tr>\n",
       "    <tr>\n",
       "      <th>1287</th>\n",
       "      <td>14</td>\n",
       "      <td>occasionally</td>\n",
       "      <td>occasionally</td>\n",
       "    </tr>\n",
       "    <tr>\n",
       "      <th>1288</th>\n",
       "      <td>14</td>\n",
       "      <td>headaches</td>\n",
       "      <td>headache</td>\n",
       "    </tr>\n",
       "    <tr>\n",
       "      <th>1289</th>\n",
       "      <td>14</td>\n",
       "      <td>may</td>\n",
       "      <td>may</td>\n",
       "    </tr>\n",
       "  </tbody>\n",
       "</table>\n",
       "</div>"
      ]
     },
     "execution_count": 39,
     "metadata": {},
     "output_type": "execute_result"
    }
   ],
   "execution_count": 39
  },
  {
   "metadata": {
    "ExecuteTime": {
     "end_time": "2025-02-25T07:10:21.607863Z",
     "start_time": "2025-02-25T07:10:15.988602Z"
    }
   },
   "cell_type": "code",
   "source": [
    "# Let's see the most frequent words in the vocab.\n",
    "import wordcloud\n",
    "import matplotlib.pyplot as plt\n",
    "\n",
    "text = ''\n",
    "for entry in corpus_lemma_list:\n",
    "    for token in entry:\n",
    "        text += ' ' + token\n",
    "\n",
    "word_cloud = wordcloud.WordCloud(background_color='white').generate(text)\n",
    "plt.figure(figsize=(15, 8), facecolor=None)\n",
    "plt.imshow(word_cloud)\n",
    "plt.axis(\"off\")\n",
    "plt.tight_layout(pad=0)\n",
    "plt.show()"
   ],
   "id": "8bd16621b4165285",
   "outputs": [
    {
     "data": {
      "text/plain": [
       "<Figure size 1500x800 with 1 Axes>"
      ],
      "image/png": "[encoded data removed]"
     },
     "metadata": {},
     "output_type": "display_data"
    }
   ],
   "execution_count": 40
  },
  {
   "metadata": {
    "ExecuteTime": {
     "end_time": "2025-02-25T07:11:11.431304Z",
     "start_time": "2025-02-25T07:10:40.372148Z"
    }
   },
   "cell_type": "code",
   "source": [
    "# 3. Only include unique words into vocab\n",
    "\n",
    "# Final vocab to store the lemmas from the corpus.\n",
    "vocab_list = []\n",
    "for entry in corpus_lemma_list:\n",
    "    for word in entry:\n",
    "        if word not in vocab_list:\n",
    "            vocab_list.append(word)\n",
    "\n",
    "print(f'Vocab entry count (unique words):[{len(vocab_list)}].')"
   ],
   "id": "e1c15bd8f4ea6371",
   "outputs": [
    {
     "name": "stdout",
     "output_type": "stream",
     "text": [
      "Vocab entry count (unique words):[23319].\n"
     ]
    }
   ],
   "execution_count": 41
  },
  {
   "metadata": {},
   "cell_type": "markdown",
   "source": [
    "## 3. What is the expected outcome?\n",
    "Now, we have the unique medical words stored in vocab and ready for creating a NLTK corpus for spelling checking."
   ],
   "id": "65a319105175033e"
  },
  {
   "metadata": {
    "ExecuteTime": {
     "end_time": "2025-02-25T07:11:23.636165Z",
     "start_time": "2025-02-25T07:11:22.591537Z"
    }
   },
   "cell_type": "code",
   "source": [
    "# Save the vocab into custom NLTK corpus format.\n",
    "\n",
    "import os\n",
    "\n",
    "# Get corpus path from app config.\n",
    "config = Configuration()\n",
    "\n",
    "# Organize the vocab into custom folder.\n",
    "corpus_dir = config.config_values['corpus_medical']\n",
    "if not os.path.exists(corpus_dir):\n",
    "    os.makedirs(corpus_dir)\n",
    "\n",
    "# Write words (lemma) to separate files in the corpus directory.\n",
    "# for i, text in enumerate(vocab_list):\n",
    "#     with open(os.path.join(corpus_dir, f'doc{i + 1}.txt'), 'w', encoding='utf-8') as file:\n",
    "#         file.write(text)\n",
    "\n",
    "corpus_name = 'medical.txt'\n",
    "for i, text in enumerate(vocab_list):\n",
    "    with open(os.path.join(corpus_dir, corpus_name), 'a', encoding='utf-8') as file:\n",
    "        file.write(text + '\\r\\n')"
   ],
   "id": "ffe8c9b32661736f",
   "outputs": [],
   "execution_count": 42
  },
  {
   "metadata": {
    "ExecuteTime": {
     "end_time": "2025-02-25T07:11:36.640779Z",
     "start_time": "2025-02-25T07:11:36.590286Z"
    }
   },
   "cell_type": "code",
   "source": [
    "# Load the custom NLTK corpus.\n",
    "from nltk.corpus import PlaintextCorpusReader\n",
    "\n",
    "# Step 3: Create an NLTK Corpus Reader\n",
    "corpus = PlaintextCorpusReader(corpus_dir, '.*\\.txt')\n",
    "\n",
    "print(f'There are {len(corpus.words())} words in custom corpus.')"
   ],
   "id": "99feedb22a58d5d9",
   "outputs": [
    {
     "name": "stdout",
     "output_type": "stream",
     "text": [
      "There are 23319 words in custom corpus.\n"
     ]
    }
   ],
   "execution_count": 43
  },
  {
   "metadata": {
    "ExecuteTime": {
     "end_time": "2025-02-25T07:11:44.927303Z",
     "start_time": "2025-02-25T07:11:44.882319Z"
    }
   },
   "cell_type": "code",
   "source": [
    "# Testing: load the corpus and perform edit-distance for given real-word.\n",
    "from nltk import edit_distance\n",
    "\n",
    "test_word = 'glacoma'\n",
    "\n",
    "if test_word not in corpus.words():\n",
    "    print(f'Test word {test_word} not in corpus.')\n",
    "    for w in corpus.words():\n",
    "        m = edit_distance(test_word, w)\n",
    "        if m == 1:\n",
    "            print(f'Word {w} edit distance is {m}.')\n",
    "            break\n",
    "else:\n",
    "    print(f'Test word {test_word} exists in corpus.')\n"
   ],
   "id": "3658080d8b69389c",
   "outputs": [
    {
     "name": "stdout",
     "output_type": "stream",
     "text": [
      "Test word glacoma not in corpus.\n",
      "Word glaucoma edit distance is 1.\n"
     ]
    }
   ],
   "execution_count": 44
  }
 ],
 "metadata": {
  "kernelspec": {
   "display_name": "Python 3 (ipykernel)",
   "language": "python",
   "name": "python3"
  },
  "language_info": {
   "codemirror_mode": {
    "name": "ipython",
    "version": 3
   },
   "file_extension": ".py",
   "mimetype": "text/x-python",
   "name": "python",
   "nbconvert_exporter": "python",
   "pygments_lexer": "ipython3",
   "version": "3.9.6"
  }
 },
 "nbformat": 4,
 "nbformat_minor": 5
}
